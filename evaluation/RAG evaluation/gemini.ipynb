{
 "cells": [
  {
   "cell_type": "code",
   "execution_count": 1,
   "id": "cdc9c60c-a3f7-42bc-a6e5-7d2535a95ea4",
   "metadata": {},
   "outputs": [
    {
     "name": "stdout",
     "output_type": "stream",
     "text": [
      "Requirement already satisfied: tensorflow==2.14 in /Users/jaspal/.pyenv/versions/3.9.9/envs/scraper/lib/python3.9/site-packages (2.14.0)\n",
      "Requirement already satisfied: tensorflow-macos==2.14.0 in /Users/jaspal/.pyenv/versions/3.9.9/envs/scraper/lib/python3.9/site-packages (from tensorflow==2.14) (2.14.0)\n",
      "Requirement already satisfied: absl-py>=1.0.0 in /Users/jaspal/.pyenv/versions/3.9.9/envs/scraper/lib/python3.9/site-packages (from tensorflow-macos==2.14.0->tensorflow==2.14) (2.0.0)\n",
      "Requirement already satisfied: astunparse>=1.6.0 in /Users/jaspal/.pyenv/versions/3.9.9/envs/scraper/lib/python3.9/site-packages (from tensorflow-macos==2.14.0->tensorflow==2.14) (1.6.3)\n",
      "Requirement already satisfied: flatbuffers>=23.5.26 in /Users/jaspal/.pyenv/versions/3.9.9/envs/scraper/lib/python3.9/site-packages (from tensorflow-macos==2.14.0->tensorflow==2.14) (23.5.26)\n",
      "Requirement already satisfied: gast!=0.5.0,!=0.5.1,!=0.5.2,>=0.2.1 in /Users/jaspal/.pyenv/versions/3.9.9/envs/scraper/lib/python3.9/site-packages (from tensorflow-macos==2.14.0->tensorflow==2.14) (0.4.0)\n",
      "Requirement already satisfied: google-pasta>=0.1.1 in /Users/jaspal/.pyenv/versions/3.9.9/envs/scraper/lib/python3.9/site-packages (from tensorflow-macos==2.14.0->tensorflow==2.14) (0.2.0)\n",
      "Requirement already satisfied: h5py>=2.9.0 in /Users/jaspal/.pyenv/versions/3.9.9/envs/scraper/lib/python3.9/site-packages (from tensorflow-macos==2.14.0->tensorflow==2.14) (3.9.0)\n",
      "Requirement already satisfied: libclang>=13.0.0 in /Users/jaspal/.pyenv/versions/3.9.9/envs/scraper/lib/python3.9/site-packages (from tensorflow-macos==2.14.0->tensorflow==2.14) (16.0.6)\n",
      "Requirement already satisfied: ml-dtypes==0.2.0 in /Users/jaspal/.pyenv/versions/3.9.9/envs/scraper/lib/python3.9/site-packages (from tensorflow-macos==2.14.0->tensorflow==2.14) (0.2.0)\n",
      "Requirement already satisfied: numpy>=1.23.5 in /Users/jaspal/.pyenv/versions/3.9.9/envs/scraper/lib/python3.9/site-packages (from tensorflow-macos==2.14.0->tensorflow==2.14) (1.24.3)\n",
      "Requirement already satisfied: opt-einsum>=2.3.2 in /Users/jaspal/.pyenv/versions/3.9.9/envs/scraper/lib/python3.9/site-packages (from tensorflow-macos==2.14.0->tensorflow==2.14) (3.3.0)\n",
      "Requirement already satisfied: packaging in /Users/jaspal/.pyenv/versions/3.9.9/envs/scraper/lib/python3.9/site-packages (from tensorflow-macos==2.14.0->tensorflow==2.14) (23.2)\n",
      "Requirement already satisfied: protobuf!=4.21.0,!=4.21.1,!=4.21.2,!=4.21.3,!=4.21.4,!=4.21.5,<5.0.0dev,>=3.20.3 in /Users/jaspal/.pyenv/versions/3.9.9/envs/scraper/lib/python3.9/site-packages (from tensorflow-macos==2.14.0->tensorflow==2.14) (4.24.3)\n",
      "Requirement already satisfied: setuptools in /Users/jaspal/.pyenv/versions/3.9.9/envs/scraper/lib/python3.9/site-packages (from tensorflow-macos==2.14.0->tensorflow==2.14) (67.8.0)\n",
      "Requirement already satisfied: six>=1.12.0 in /Users/jaspal/.pyenv/versions/3.9.9/envs/scraper/lib/python3.9/site-packages (from tensorflow-macos==2.14.0->tensorflow==2.14) (1.16.0)\n",
      "Requirement already satisfied: termcolor>=1.1.0 in /Users/jaspal/.pyenv/versions/3.9.9/envs/scraper/lib/python3.9/site-packages (from tensorflow-macos==2.14.0->tensorflow==2.14) (2.3.0)\n",
      "Requirement already satisfied: typing-extensions>=3.6.6 in /Users/jaspal/.pyenv/versions/3.9.9/envs/scraper/lib/python3.9/site-packages (from tensorflow-macos==2.14.0->tensorflow==2.14) (4.8.0)\n",
      "Requirement already satisfied: wrapt<1.15,>=1.11.0 in /Users/jaspal/.pyenv/versions/3.9.9/envs/scraper/lib/python3.9/site-packages (from tensorflow-macos==2.14.0->tensorflow==2.14) (1.14.1)\n",
      "Requirement already satisfied: tensorflow-io-gcs-filesystem>=0.23.1 in /Users/jaspal/.pyenv/versions/3.9.9/envs/scraper/lib/python3.9/site-packages (from tensorflow-macos==2.14.0->tensorflow==2.14) (0.34.0)\n",
      "Requirement already satisfied: grpcio<2.0,>=1.24.3 in /Users/jaspal/.pyenv/versions/3.9.9/envs/scraper/lib/python3.9/site-packages (from tensorflow-macos==2.14.0->tensorflow==2.14) (1.60.0)\n",
      "Requirement already satisfied: tensorboard<2.15,>=2.14 in /Users/jaspal/.pyenv/versions/3.9.9/envs/scraper/lib/python3.9/site-packages (from tensorflow-macos==2.14.0->tensorflow==2.14) (2.14.1)\n",
      "Requirement already satisfied: tensorflow-estimator<2.15,>=2.14.0 in /Users/jaspal/.pyenv/versions/3.9.9/envs/scraper/lib/python3.9/site-packages (from tensorflow-macos==2.14.0->tensorflow==2.14) (2.14.0)\n",
      "Requirement already satisfied: keras<2.15,>=2.14.0 in /Users/jaspal/.pyenv/versions/3.9.9/envs/scraper/lib/python3.9/site-packages (from tensorflow-macos==2.14.0->tensorflow==2.14) (2.14.0)\n",
      "Requirement already satisfied: wheel<1.0,>=0.23.0 in /Users/jaspal/.pyenv/versions/3.9.9/envs/scraper/lib/python3.9/site-packages (from astunparse>=1.6.0->tensorflow-macos==2.14.0->tensorflow==2.14) (0.40.0)\n",
      "Requirement already satisfied: google-auth<3,>=1.6.3 in /Users/jaspal/.pyenv/versions/3.9.9/envs/scraper/lib/python3.9/site-packages (from tensorboard<2.15,>=2.14->tensorflow-macos==2.14.0->tensorflow==2.14) (2.25.2)\n",
      "Requirement already satisfied: google-auth-oauthlib<1.1,>=0.5 in /Users/jaspal/.pyenv/versions/3.9.9/envs/scraper/lib/python3.9/site-packages (from tensorboard<2.15,>=2.14->tensorflow-macos==2.14.0->tensorflow==2.14) (1.0.0)\n",
      "Requirement already satisfied: markdown>=2.6.8 in /Users/jaspal/.pyenv/versions/3.9.9/envs/scraper/lib/python3.9/site-packages (from tensorboard<2.15,>=2.14->tensorflow-macos==2.14.0->tensorflow==2.14) (3.5.1)\n",
      "Requirement already satisfied: requests<3,>=2.21.0 in /Users/jaspal/.pyenv/versions/3.9.9/envs/scraper/lib/python3.9/site-packages (from tensorboard<2.15,>=2.14->tensorflow-macos==2.14.0->tensorflow==2.14) (2.31.0)\n",
      "Requirement already satisfied: tensorboard-data-server<0.8.0,>=0.7.0 in /Users/jaspal/.pyenv/versions/3.9.9/envs/scraper/lib/python3.9/site-packages (from tensorboard<2.15,>=2.14->tensorflow-macos==2.14.0->tensorflow==2.14) (0.7.1)\n",
      "Requirement already satisfied: werkzeug>=1.0.1 in /Users/jaspal/.pyenv/versions/3.9.9/envs/scraper/lib/python3.9/site-packages (from tensorboard<2.15,>=2.14->tensorflow-macos==2.14.0->tensorflow==2.14) (2.3.7)\n",
      "Requirement already satisfied: cachetools<6.0,>=2.0.0 in /Users/jaspal/.pyenv/versions/3.9.9/envs/scraper/lib/python3.9/site-packages (from google-auth<3,>=1.6.3->tensorboard<2.15,>=2.14->tensorflow-macos==2.14.0->tensorflow==2.14) (5.3.1)\n",
      "Requirement already satisfied: pyasn1-modules>=0.2.1 in /Users/jaspal/.pyenv/versions/3.9.9/envs/scraper/lib/python3.9/site-packages (from google-auth<3,>=1.6.3->tensorboard<2.15,>=2.14->tensorflow-macos==2.14.0->tensorflow==2.14) (0.3.0)\n",
      "Requirement already satisfied: rsa<5,>=3.1.4 in /Users/jaspal/.pyenv/versions/3.9.9/envs/scraper/lib/python3.9/site-packages (from google-auth<3,>=1.6.3->tensorboard<2.15,>=2.14->tensorflow-macos==2.14.0->tensorflow==2.14) (4.9)\n",
      "Requirement already satisfied: requests-oauthlib>=0.7.0 in /Users/jaspal/.pyenv/versions/3.9.9/envs/scraper/lib/python3.9/site-packages (from google-auth-oauthlib<1.1,>=0.5->tensorboard<2.15,>=2.14->tensorflow-macos==2.14.0->tensorflow==2.14) (1.3.1)\n",
      "Requirement already satisfied: importlib-metadata>=4.4 in /Users/jaspal/.pyenv/versions/3.9.9/envs/scraper/lib/python3.9/site-packages (from markdown>=2.6.8->tensorboard<2.15,>=2.14->tensorflow-macos==2.14.0->tensorflow==2.14) (6.8.0)\n",
      "Requirement already satisfied: charset-normalizer<4,>=2 in /Users/jaspal/.pyenv/versions/3.9.9/envs/scraper/lib/python3.9/site-packages (from requests<3,>=2.21.0->tensorboard<2.15,>=2.14->tensorflow-macos==2.14.0->tensorflow==2.14) (3.2.0)\n",
      "Requirement already satisfied: idna<4,>=2.5 in /Users/jaspal/.pyenv/versions/3.9.9/envs/scraper/lib/python3.9/site-packages (from requests<3,>=2.21.0->tensorboard<2.15,>=2.14->tensorflow-macos==2.14.0->tensorflow==2.14) (3.4)\n",
      "Requirement already satisfied: urllib3<3,>=1.21.1 in /Users/jaspal/.pyenv/versions/3.9.9/envs/scraper/lib/python3.9/site-packages (from requests<3,>=2.21.0->tensorboard<2.15,>=2.14->tensorflow-macos==2.14.0->tensorflow==2.14) (1.26.16)\n",
      "Requirement already satisfied: certifi>=2017.4.17 in /Users/jaspal/.pyenv/versions/3.9.9/envs/scraper/lib/python3.9/site-packages (from requests<3,>=2.21.0->tensorboard<2.15,>=2.14->tensorflow-macos==2.14.0->tensorflow==2.14) (2023.7.22)\n",
      "Requirement already satisfied: MarkupSafe>=2.1.1 in /Users/jaspal/.pyenv/versions/3.9.9/envs/scraper/lib/python3.9/site-packages (from werkzeug>=1.0.1->tensorboard<2.15,>=2.14->tensorflow-macos==2.14.0->tensorflow==2.14) (2.1.3)\n",
      "Requirement already satisfied: zipp>=0.5 in /Users/jaspal/.pyenv/versions/3.9.9/envs/scraper/lib/python3.9/site-packages (from importlib-metadata>=4.4->markdown>=2.6.8->tensorboard<2.15,>=2.14->tensorflow-macos==2.14.0->tensorflow==2.14) (3.16.2)\n",
      "Requirement already satisfied: pyasn1<0.6.0,>=0.4.6 in /Users/jaspal/.pyenv/versions/3.9.9/envs/scraper/lib/python3.9/site-packages (from pyasn1-modules>=0.2.1->google-auth<3,>=1.6.3->tensorboard<2.15,>=2.14->tensorflow-macos==2.14.0->tensorflow==2.14) (0.5.0)\n",
      "Requirement already satisfied: oauthlib>=3.0.0 in /Users/jaspal/.pyenv/versions/3.9.9/envs/scraper/lib/python3.9/site-packages (from requests-oauthlib>=0.7.0->google-auth-oauthlib<1.1,>=0.5->tensorboard<2.15,>=2.14->tensorflow-macos==2.14.0->tensorflow==2.14) (3.2.2)\n"
     ]
    }
   ],
   "source": [
    "!pip install tensorflow==2.14"
   ]
  },
  {
   "cell_type": "code",
   "execution_count": 2,
   "id": "e576c8b0-341c-4a20-8664-2576501223e9",
   "metadata": {},
   "outputs": [],
   "source": [
    "!pip install -q -U google-generativeai"
   ]
  },
  {
   "cell_type": "code",
   "execution_count": 3,
   "id": "5c8104c6-5d93-41f6-96b1-a3ee56fc7391",
   "metadata": {},
   "outputs": [
    {
     "name": "stdout",
     "output_type": "stream",
     "text": [
      "\u001b[31mERROR: pip's dependency resolver does not currently take into account all the packages that are installed. This behaviour is the source of the following dependency conflicts.\n",
      "chainlit 0.7.700 requires click<9.0.0,>=8.1.3, but you have click 7.1.2 which is incompatible.\n",
      "dask 2023.12.1 requires click>=8.1, but you have click 7.1.2 which is incompatible.\n",
      "langchain-experimental 0.0.47 requires langchain<0.1,>=0.0.350, but you have langchain 0.0.327 which is incompatible.\n",
      "pip-tools 7.3.0 requires click>=8, but you have click 7.1.2 which is incompatible.\n",
      "trulens-eval 0.19.2 requires langchain>=0.0.335, but you have langchain 0.0.327 which is incompatible.\u001b[0m\u001b[31m\n",
      "\u001b[0m"
     ]
    }
   ],
   "source": [
    "!pip install -q google-cloud-aiplatform==1.36.0 google-cloud-discoveryengine==0.11.2 langchain==0.0.327 p"
   ]
  },
  {
   "cell_type": "code",
   "execution_count": 4,
   "id": "e199c7a1-24e6-48bf-adc5-89e5f3ded921",
   "metadata": {},
   "outputs": [],
   "source": [
    "!pip -q install langchain_experimental langchain_core\n",
    "!pip -q install google-generativeai==0.3.1\n",
    "!pip -q install google-ai-generativelanguage==0.4.0\n",
    "!pip -q install langchain-google-genai\n",
    "!pip -q install trulens_eval"
   ]
  },
  {
   "cell_type": "code",
   "execution_count": 5,
   "id": "c3c26b01-c0f2-4595-899d-93acb90cfee2",
   "metadata": {},
   "outputs": [],
   "source": [
    "import os\n",
    "if not os.path.exists('new_articles'):\n",
    "    os.mkdir('new_articles')"
   ]
  },
  {
   "cell_type": "code",
   "execution_count": 6,
   "id": "02708169-6c95-451e-8f26-8a4563ad610a",
   "metadata": {},
   "outputs": [],
   "source": [
    "# !wget -q https://www.dropbox.com/s/vs6ocyvpzzncvwh/new_articles.zip\n",
    "# !unzip -q new_articles.zip -d new_articles"
   ]
  },
  {
   "cell_type": "code",
   "execution_count": 7,
   "id": "9eac97e7-c00e-43fc-9943-9cb9bbc71ef9",
   "metadata": {},
   "outputs": [],
   "source": [
    "import pathlib\n",
    "import textwrap\n",
    "import os\n",
    "import google.generativeai as genai\n",
    "import pathlib\n",
    "import textwrap\n",
    "from dotenv import load_dotenv\n",
    "import google.generativeai as genai\n",
    "from IPython.display import display\n",
    "from IPython.display import Markdown\n",
    "def to_markdown(text):\n",
    "  text = text.replace('•', '  *')\n",
    "  return Markdown(textwrap.indent(text, '> ', predicate=lambda _: True))"
   ]
  },
  {
   "cell_type": "code",
   "execution_count": 8,
   "id": "fed69f02-08af-4d1b-b152-69d4c6efba69",
   "metadata": {},
   "outputs": [],
   "source": [
    "load_dotenv()\n",
    "GOOGLE_API_KEY= os.getenv(\"GOOGLE_API_KEY\")\n",
    "# GOOGLE_API_KEY=userdata.get('GOOGLE_API_KEY')\n",
    "genai.configure(api_key=GOOGLE_API_KEY)"
   ]
  },
  {
   "cell_type": "code",
   "execution_count": 9,
   "id": "b2e8dd04-9a13-4ea2-bc11-5e013e93b0f1",
   "metadata": {},
   "outputs": [],
   "source": [
    "model = genai.GenerativeModel('gemini-pro')"
   ]
  },
  {
   "cell_type": "code",
   "execution_count": 10,
   "id": "e88f9fe7-6c80-4f65-a1cc-9fc20c56a9f2",
   "metadata": {},
   "outputs": [
    {
     "name": "stdout",
     "output_type": "stream",
     "text": [
      "CPU times: user 16.1 ms, sys: 14.1 ms, total: 30.3 ms\n",
      "Wall time: 9.12 s\n"
     ]
    }
   ],
   "source": [
    "%%time\n",
    "responce=model.generate_content(\"What is the meaning of life?\")"
   ]
  },
  {
   "cell_type": "code",
   "execution_count": 11,
   "id": "254b8ab7-7e2e-4ef4-a9b9-1a95b612a770",
   "metadata": {},
   "outputs": [
    {
     "name": "stdout",
     "output_type": "stream",
     "text": [
      "The meaning of life is a deep philosophical question that has been pondered by humans for centuries, and there is no single, universally accepted answer. Different people and cultures have different perspectives and beliefs about the meaning of life, and what is meaningful to one person may not be meaningful to another.\n",
      "\n",
      "Some common themes that emerge in discussions about the meaning of life include:\n",
      "\n",
      "**Purpose and Fulfillment:** Many people find meaning in their lives through pursuing a purpose or goal that is meaningful to them. This could be a career, a creative endeavor, raising a family, or making a positive impact on the world. When people feel that they are making a difference and contributing to something greater than themselves, they often experience a sense of fulfillment and purpose.\n",
      "\n",
      "**Relationships and Connections:** Strong relationships with family, friends, and loved ones are often cited as a source of meaning in life. Feeling connected to others and being part of a supportive community can provide a sense of belonging, purpose, and joy.\n",
      "\n",
      "**Personal Growth and Learning:** Some people find meaning in life through personal growth and learning. This could involve pursuing education, exploring new interests and hobbies, or challenging oneself to step outside of their comfort zone. Continuously learning and growing can help people feel a sense of accomplishment and fulfillment.\n",
      "\n",
      "**Making a Difference:** Many people find meaning and purpose in their lives by making a positive impact on the world. This could involve volunteering, donating to charity, or simply being a kind and compassionate person. When people feel that they are making a difference, even in a small way, it can give them a sense of purpose and fulfillment.\n",
      "\n",
      "**Experiencing the Present Moment:** Some people find meaning in life by simply being present in the moment and savoring the beauty and wonder of the world around them. This could involve practicing mindfulness, meditation, or simply taking time to appreciate the small joys of life.\n",
      "\n",
      "Ultimately, the meaning of life is a personal and subjective matter that each individual must discover for themselves. There is no right or wrong answer, and what is meaningful to one person may not be meaningful to another. The important thing is to find what brings you a sense of purpose, fulfillment, and joy in your own life.\n"
     ]
    }
   ],
   "source": [
    "to_markdown(responce.text)\n",
    "print(responce.text)"
   ]
  },
  {
   "cell_type": "markdown",
   "id": "149ae1d7-4039-46ba-82db-909ddfd56b30",
   "metadata": {},
   "source": [
    "### RAG(Lanchain+chroma+GeminiAI)"
   ]
  },
  {
   "cell_type": "code",
   "execution_count": 12,
   "id": "13760d8e-86f6-4fc5-85e2-0eb3ba65025c",
   "metadata": {},
   "outputs": [],
   "source": [
    "from langchain_google_genai import ChatGoogleGenerativeAI\n",
    "from langchain_google_genai import GoogleGenerativeAIEmbeddings"
   ]
  },
  {
   "cell_type": "code",
   "execution_count": 13,
   "id": "bc410479-26a8-494a-b244-7619714cfa05",
   "metadata": {},
   "outputs": [],
   "source": [
    "from langchain.document_loaders import TextLoader\n",
    "from langchain.vectorstores import Chroma\n",
    "from langchain.text_splitter import RecursiveCharacterTextSplitter\n",
    "# from langchain.chains import RetrievalQA\n",
    "from langchain.document_loaders import TextLoader\n",
    "from langchain.document_loaders import DirectoryLoader\n",
    "from langchain_google_genai import ChatGoogleGenerativeAI\n",
    "from langchain_google_genai import GoogleGenerativeAIEmbeddings\n",
    "from langchain.prompts import PromptTemplate\n",
    "\n",
    "# from langchain.schema.output_parser import StrOutputParser"
   ]
  },
  {
   "cell_type": "code",
   "execution_count": 14,
   "id": "d3a9526d-8321-4683-b71e-2684cd15437f",
   "metadata": {},
   "outputs": [],
   "source": [
    "loader = DirectoryLoader('./new_articles/', glob=\"./*.txt\", loader_cls=TextLoader)\n",
    "documents = loader.load()"
   ]
  },
  {
   "cell_type": "code",
   "execution_count": 15,
   "id": "3d565bdb-80fa-472f-aa90-14fbf02e83c6",
   "metadata": {},
   "outputs": [],
   "source": [
    "text_splitter = RecursiveCharacterTextSplitter(chunk_size=1000, chunk_overlap=200)\n",
    "texts = text_splitter.split_documents(documents)"
   ]
  },
  {
   "cell_type": "code",
   "execution_count": 16,
   "id": "bd53ed72-9b59-4457-a041-71a77dde870b",
   "metadata": {},
   "outputs": [],
   "source": [
    "embeddings = GoogleGenerativeAIEmbeddings(model=\"models/embedding-001\")"
   ]
  },
  {
   "cell_type": "code",
   "execution_count": 17,
   "id": "95933ee6-7217-4fa4-ad28-1c838ce2d942",
   "metadata": {},
   "outputs": [],
   "source": [
    "vectordb = Chroma.from_documents(documents=texts, \n",
    "                                 embedding=embeddings)"
   ]
  },
  {
   "cell_type": "markdown",
   "id": "3800ff9e-e54d-4357-a701-e79e1a6defdc",
   "metadata": {},
   "source": [
    "### RAG template class for True Lense"
   ]
  },
  {
   "cell_type": "code",
   "execution_count": 18,
   "id": "11ecf55e-5fea-4aaa-98c3-d2665c8f89aa",
   "metadata": {},
   "outputs": [
    {
     "ename": "ModuleNotFoundError",
     "evalue": "\nllama-index package is required for instrumenting llama_index apps.\nYou should be able to install it with pip:\n\n    pip install 'llama-index>=v0.9.14.post3\n",
     "output_type": "error",
     "traceback": [
      "\u001b[0;31m---------------------------------------------------------------------------\u001b[0m",
      "\u001b[0;31mModuleNotFoundError\u001b[0m                       Traceback (most recent call last)",
      "Cell \u001b[0;32mIn[18], line 1\u001b[0m\n\u001b[0;32m----> 1\u001b[0m \u001b[38;5;28;01mfrom\u001b[39;00m \u001b[38;5;21;01mtrulens_eval\u001b[39;00m \u001b[38;5;28;01mimport\u001b[39;00m Tru\n\u001b[1;32m      2\u001b[0m \u001b[38;5;28;01mfrom\u001b[39;00m \u001b[38;5;21;01mtrulens_eval\u001b[39;00m\u001b[38;5;21;01m.\u001b[39;00m\u001b[38;5;21;01mtru_custom_app\u001b[39;00m \u001b[38;5;28;01mimport\u001b[39;00m instrument\n\u001b[1;32m      3\u001b[0m tru \u001b[38;5;241m=\u001b[39m Tru()\n",
      "File \u001b[0;32m~/.pyenv/versions/3.9.9/envs/scraper/lib/python3.9/site-packages/trulens_eval/__init__.py:96\u001b[0m\n\u001b[1;32m     94\u001b[0m \u001b[38;5;28;01mfrom\u001b[39;00m \u001b[38;5;21;01mtrulens_eval\u001b[39;00m\u001b[38;5;21;01m.\u001b[39;00m\u001b[38;5;21;01mtru_chain\u001b[39;00m \u001b[38;5;28;01mimport\u001b[39;00m TruChain\n\u001b[1;32m     95\u001b[0m \u001b[38;5;28;01mfrom\u001b[39;00m \u001b[38;5;21;01mtrulens_eval\u001b[39;00m\u001b[38;5;21;01m.\u001b[39;00m\u001b[38;5;21;01mtru_custom_app\u001b[39;00m \u001b[38;5;28;01mimport\u001b[39;00m TruCustomApp\n\u001b[0;32m---> 96\u001b[0m \u001b[38;5;28;01mfrom\u001b[39;00m \u001b[38;5;21;01mtrulens_eval\u001b[39;00m\u001b[38;5;21;01m.\u001b[39;00m\u001b[38;5;21;01mtru_llama\u001b[39;00m \u001b[38;5;28;01mimport\u001b[39;00m TruLlama\n\u001b[1;32m     97\u001b[0m \u001b[38;5;28;01mfrom\u001b[39;00m \u001b[38;5;21;01mtrulens_eval\u001b[39;00m\u001b[38;5;21;01m.\u001b[39;00m\u001b[38;5;21;01mutils\u001b[39;00m\u001b[38;5;21;01m.\u001b[39;00m\u001b[38;5;21;01mthreading\u001b[39;00m \u001b[38;5;28;01mimport\u001b[39;00m TP\n\u001b[1;32m     99\u001b[0m __all__ \u001b[38;5;241m=\u001b[39m [\n\u001b[1;32m    100\u001b[0m     \u001b[38;5;124m\"\u001b[39m\u001b[38;5;124mTru\u001b[39m\u001b[38;5;124m\"\u001b[39m,\n\u001b[1;32m    101\u001b[0m     \u001b[38;5;124m\"\u001b[39m\u001b[38;5;124mTruBasicApp\u001b[39m\u001b[38;5;124m\"\u001b[39m,\n\u001b[0;32m   (...)\u001b[0m\n\u001b[1;32m    114\u001b[0m     \u001b[38;5;124m\"\u001b[39m\u001b[38;5;124mTP\u001b[39m\u001b[38;5;124m\"\u001b[39m,\n\u001b[1;32m    115\u001b[0m ]\n",
      "File \u001b[0;32m~/.pyenv/versions/3.9.9/envs/scraper/lib/python3.9/site-packages/trulens_eval/tru_llama.py:182\u001b[0m\n\u001b[1;32m    172\u001b[0m     \u001b[38;5;28;01mdef\u001b[39;00m \u001b[38;5;21m__init__\u001b[39m(\u001b[38;5;28mself\u001b[39m, \u001b[38;5;241m*\u001b[39margs, \u001b[38;5;241m*\u001b[39m\u001b[38;5;241m*\u001b[39mkwargs):\n\u001b[1;32m    173\u001b[0m         \u001b[38;5;28msuper\u001b[39m()\u001b[38;5;241m.\u001b[39m\u001b[38;5;21m__init__\u001b[39m(\n\u001b[1;32m    174\u001b[0m             include_modules\u001b[38;5;241m=\u001b[39mLlamaInstrument\u001b[38;5;241m.\u001b[39mDefault\u001b[38;5;241m.\u001b[39mMODULES,\n\u001b[1;32m    175\u001b[0m             include_classes\u001b[38;5;241m=\u001b[39mLlamaInstrument\u001b[38;5;241m.\u001b[39mDefault\u001b[38;5;241m.\u001b[39mCLASSES(),\n\u001b[0;32m   (...)\u001b[0m\n\u001b[1;32m    178\u001b[0m             \u001b[38;5;241m*\u001b[39m\u001b[38;5;241m*\u001b[39mkwargs\n\u001b[1;32m    179\u001b[0m         )\n\u001b[0;32m--> 182\u001b[0m \u001b[38;5;28;01mclass\u001b[39;00m \u001b[38;5;21;01mTruLlama\u001b[39;00m(App):\n\u001b[1;32m    183\u001b[0m \u001b[38;5;250m    \u001b[39m\u001b[38;5;124;03m\"\"\"\u001b[39;00m\n\u001b[1;32m    184\u001b[0m \u001b[38;5;124;03m    Instantiates the LLama Index Wrapper.\u001b[39;00m\n\u001b[1;32m    185\u001b[0m \n\u001b[0;32m   (...)\u001b[0m\n\u001b[1;32m    227\u001b[0m \u001b[38;5;124;03m            app (BaseQueryEngine | BaseChatEngine): A llama index application.\u001b[39;00m\n\u001b[1;32m    228\u001b[0m \u001b[38;5;124;03m    \"\"\"\u001b[39;00m\n\u001b[1;32m    230\u001b[0m     \u001b[38;5;28;01mclass\u001b[39;00m \u001b[38;5;21;01mConfig\u001b[39;00m:\n",
      "File \u001b[0;32m~/.pyenv/versions/3.9.9/envs/scraper/lib/python3.9/site-packages/pydantic/_internal/_model_construction.py:178\u001b[0m, in \u001b[0;36mModelMetaclass.__new__\u001b[0;34m(mcs, cls_name, bases, namespace, __pydantic_generic_metadata__, __pydantic_reset_parent_namespace__, **kwargs)\u001b[0m\n\u001b[1;32m    176\u001b[0m types_namespace \u001b[38;5;241m=\u001b[39m get_cls_types_namespace(\u001b[38;5;28mcls\u001b[39m, parent_namespace)\n\u001b[1;32m    177\u001b[0m set_model_fields(\u001b[38;5;28mcls\u001b[39m, bases, config_wrapper, types_namespace)\n\u001b[0;32m--> 178\u001b[0m \u001b[43mcomplete_model_class\u001b[49m\u001b[43m(\u001b[49m\n\u001b[1;32m    179\u001b[0m \u001b[43m    \u001b[49m\u001b[38;5;28;43mcls\u001b[39;49m\u001b[43m,\u001b[49m\n\u001b[1;32m    180\u001b[0m \u001b[43m    \u001b[49m\u001b[43mcls_name\u001b[49m\u001b[43m,\u001b[49m\n\u001b[1;32m    181\u001b[0m \u001b[43m    \u001b[49m\u001b[43mconfig_wrapper\u001b[49m\u001b[43m,\u001b[49m\n\u001b[1;32m    182\u001b[0m \u001b[43m    \u001b[49m\u001b[43mraise_errors\u001b[49m\u001b[38;5;241;43m=\u001b[39;49m\u001b[38;5;28;43;01mFalse\u001b[39;49;00m\u001b[43m,\u001b[49m\n\u001b[1;32m    183\u001b[0m \u001b[43m    \u001b[49m\u001b[43mtypes_namespace\u001b[49m\u001b[38;5;241;43m=\u001b[39;49m\u001b[43mtypes_namespace\u001b[49m\u001b[43m,\u001b[49m\n\u001b[1;32m    184\u001b[0m \u001b[43m\u001b[49m\u001b[43m)\u001b[49m\n\u001b[1;32m    185\u001b[0m \u001b[38;5;66;03m# using super(cls, cls) on the next line ensures we only call the parent class's __pydantic_init_subclass__\u001b[39;00m\n\u001b[1;32m    186\u001b[0m \u001b[38;5;66;03m# I believe the `type: ignore` is only necessary because mypy doesn't realize that this code branch is\u001b[39;00m\n\u001b[1;32m    187\u001b[0m \u001b[38;5;66;03m# only hit for _proper_ subclasses of BaseModel\u001b[39;00m\n\u001b[1;32m    188\u001b[0m \u001b[38;5;28msuper\u001b[39m(\u001b[38;5;28mcls\u001b[39m, \u001b[38;5;28mcls\u001b[39m)\u001b[38;5;241m.\u001b[39m__pydantic_init_subclass__(\u001b[38;5;241m*\u001b[39m\u001b[38;5;241m*\u001b[39mkwargs)  \u001b[38;5;66;03m# type: ignore[misc]\u001b[39;00m\n",
      "File \u001b[0;32m~/.pyenv/versions/3.9.9/envs/scraper/lib/python3.9/site-packages/pydantic/_internal/_model_construction.py:468\u001b[0m, in \u001b[0;36mcomplete_model_class\u001b[0;34m(cls, cls_name, config_wrapper, raise_errors, types_namespace)\u001b[0m\n\u001b[1;32m    465\u001b[0m     \u001b[38;5;28;01mreturn\u001b[39;00m \u001b[38;5;28;01mFalse\u001b[39;00m\n\u001b[1;32m    467\u001b[0m \u001b[38;5;28;01mtry\u001b[39;00m:\n\u001b[0;32m--> 468\u001b[0m     schema \u001b[38;5;241m=\u001b[39m \u001b[38;5;28;43mcls\u001b[39;49m\u001b[38;5;241;43m.\u001b[39;49m\u001b[43m__get_pydantic_core_schema__\u001b[49m\u001b[43m(\u001b[49m\u001b[38;5;28;43mcls\u001b[39;49m\u001b[43m,\u001b[49m\u001b[43m \u001b[49m\u001b[43mhandler\u001b[49m\u001b[43m)\u001b[49m\n\u001b[1;32m    469\u001b[0m \u001b[38;5;28;01mexcept\u001b[39;00m PydanticUndefinedAnnotation \u001b[38;5;28;01mas\u001b[39;00m e:\n\u001b[1;32m    470\u001b[0m     \u001b[38;5;28;01mif\u001b[39;00m raise_errors:\n",
      "File \u001b[0;32m~/.pyenv/versions/3.9.9/envs/scraper/lib/python3.9/site-packages/pydantic/main.py:557\u001b[0m, in \u001b[0;36mBaseModel.__get_pydantic_core_schema__\u001b[0;34m(cls, _BaseModel__source, _BaseModel__handler)\u001b[0m\n\u001b[1;32m    554\u001b[0m     \u001b[38;5;28;01mif\u001b[39;00m \u001b[38;5;129;01mnot\u001b[39;00m \u001b[38;5;28mcls\u001b[39m\u001b[38;5;241m.\u001b[39m__pydantic_generic_metadata__[\u001b[38;5;124m'\u001b[39m\u001b[38;5;124morigin\u001b[39m\u001b[38;5;124m'\u001b[39m]:\n\u001b[1;32m    555\u001b[0m         \u001b[38;5;28;01mreturn\u001b[39;00m \u001b[38;5;28mcls\u001b[39m\u001b[38;5;241m.\u001b[39m__pydantic_core_schema__\n\u001b[0;32m--> 557\u001b[0m \u001b[38;5;28;01mreturn\u001b[39;00m \u001b[43m__handler\u001b[49m\u001b[43m(\u001b[49m\u001b[43m__source\u001b[49m\u001b[43m)\u001b[49m\n",
      "File \u001b[0;32m~/.pyenv/versions/3.9.9/envs/scraper/lib/python3.9/site-packages/pydantic/_internal/_schema_generation_shared.py:82\u001b[0m, in \u001b[0;36mCallbackGetCoreSchemaHandler.__call__\u001b[0;34m(self, _CallbackGetCoreSchemaHandler__source_type)\u001b[0m\n\u001b[1;32m     81\u001b[0m \u001b[38;5;28;01mdef\u001b[39;00m \u001b[38;5;21m__call__\u001b[39m(\u001b[38;5;28mself\u001b[39m, __source_type: Any) \u001b[38;5;241m-\u001b[39m\u001b[38;5;241m>\u001b[39m core_schema\u001b[38;5;241m.\u001b[39mCoreSchema:\n\u001b[0;32m---> 82\u001b[0m     schema \u001b[38;5;241m=\u001b[39m \u001b[38;5;28;43mself\u001b[39;49m\u001b[38;5;241;43m.\u001b[39;49m\u001b[43m_handler\u001b[49m\u001b[43m(\u001b[49m\u001b[43m__source_type\u001b[49m\u001b[43m)\u001b[49m\n\u001b[1;32m     83\u001b[0m     ref \u001b[38;5;241m=\u001b[39m schema\u001b[38;5;241m.\u001b[39mget(\u001b[38;5;124m'\u001b[39m\u001b[38;5;124mref\u001b[39m\u001b[38;5;124m'\u001b[39m)\n\u001b[1;32m     84\u001b[0m     \u001b[38;5;28;01mif\u001b[39;00m \u001b[38;5;28mself\u001b[39m\u001b[38;5;241m.\u001b[39m_ref_mode \u001b[38;5;241m==\u001b[39m \u001b[38;5;124m'\u001b[39m\u001b[38;5;124mto-def\u001b[39m\u001b[38;5;124m'\u001b[39m:\n",
      "File \u001b[0;32m~/.pyenv/versions/3.9.9/envs/scraper/lib/python3.9/site-packages/pydantic/_internal/_generate_schema.py:448\u001b[0m, in \u001b[0;36mGenerateSchema.generate_schema\u001b[0;34m(self, obj, from_dunder_get_core_schema, from_prepare_args)\u001b[0m\n\u001b[1;32m    445\u001b[0m         schema \u001b[38;5;241m=\u001b[39m from_property\n\u001b[1;32m    447\u001b[0m \u001b[38;5;28;01mif\u001b[39;00m schema \u001b[38;5;129;01mis\u001b[39;00m \u001b[38;5;28;01mNone\u001b[39;00m:\n\u001b[0;32m--> 448\u001b[0m     schema \u001b[38;5;241m=\u001b[39m \u001b[38;5;28;43mself\u001b[39;49m\u001b[38;5;241;43m.\u001b[39;49m\u001b[43m_generate_schema\u001b[49m\u001b[43m(\u001b[49m\u001b[43mobj\u001b[49m\u001b[43m)\u001b[49m\n\u001b[1;32m    450\u001b[0m metadata_js_function \u001b[38;5;241m=\u001b[39m _extract_get_pydantic_json_schema(obj, schema)\n\u001b[1;32m    451\u001b[0m \u001b[38;5;28;01mif\u001b[39;00m metadata_js_function \u001b[38;5;129;01mis\u001b[39;00m \u001b[38;5;129;01mnot\u001b[39;00m \u001b[38;5;28;01mNone\u001b[39;00m:\n",
      "File \u001b[0;32m~/.pyenv/versions/3.9.9/envs/scraper/lib/python3.9/site-packages/pydantic/_internal/_generate_schema.py:689\u001b[0m, in \u001b[0;36mGenerateSchema._generate_schema\u001b[0;34m(self, obj)\u001b[0m\n\u001b[1;32m    686\u001b[0m \u001b[38;5;28;01mfrom\u001b[39;00m \u001b[38;5;21;01m.\u001b[39;00m\u001b[38;5;21;01m.\u001b[39;00m\u001b[38;5;21;01mmain\u001b[39;00m \u001b[38;5;28;01mimport\u001b[39;00m BaseModel\n\u001b[1;32m    688\u001b[0m \u001b[38;5;28;01mif\u001b[39;00m lenient_issubclass(obj, BaseModel):\n\u001b[0;32m--> 689\u001b[0m     \u001b[38;5;28;01mreturn\u001b[39;00m \u001b[38;5;28;43mself\u001b[39;49m\u001b[38;5;241;43m.\u001b[39;49m\u001b[43m_model_schema\u001b[49m\u001b[43m(\u001b[49m\u001b[43mobj\u001b[49m\u001b[43m)\u001b[49m\n\u001b[1;32m    691\u001b[0m \u001b[38;5;28;01mif\u001b[39;00m \u001b[38;5;28misinstance\u001b[39m(obj, PydanticRecursiveRef):\n\u001b[1;32m    692\u001b[0m     \u001b[38;5;28;01mreturn\u001b[39;00m core_schema\u001b[38;5;241m.\u001b[39mdefinition_reference_schema(schema_ref\u001b[38;5;241m=\u001b[39mobj\u001b[38;5;241m.\u001b[39mtype_ref)\n",
      "File \u001b[0;32m~/.pyenv/versions/3.9.9/envs/scraper/lib/python3.9/site-packages/pydantic/_internal/_generate_schema.py:519\u001b[0m, in \u001b[0;36mGenerateSchema._model_schema\u001b[0;34m(self, cls)\u001b[0m\n\u001b[1;32m    507\u001b[0m     model_schema \u001b[38;5;241m=\u001b[39m core_schema\u001b[38;5;241m.\u001b[39mmodel_schema(\n\u001b[1;32m    508\u001b[0m         \u001b[38;5;28mcls\u001b[39m,\n\u001b[1;32m    509\u001b[0m         inner_schema,\n\u001b[0;32m   (...)\u001b[0m\n\u001b[1;32m    515\u001b[0m         metadata\u001b[38;5;241m=\u001b[39mmetadata,\n\u001b[1;32m    516\u001b[0m     )\n\u001b[1;32m    517\u001b[0m \u001b[38;5;28;01melse\u001b[39;00m:\n\u001b[1;32m    518\u001b[0m     fields_schema: core_schema\u001b[38;5;241m.\u001b[39mCoreSchema \u001b[38;5;241m=\u001b[39m core_schema\u001b[38;5;241m.\u001b[39mmodel_fields_schema(\n\u001b[0;32m--> 519\u001b[0m         {k: \u001b[38;5;28mself\u001b[39m\u001b[38;5;241m.\u001b[39m_generate_md_field_schema(k, v, decorators) \u001b[38;5;28;01mfor\u001b[39;00m k, v \u001b[38;5;129;01min\u001b[39;00m fields\u001b[38;5;241m.\u001b[39mitems()},\n\u001b[1;32m    520\u001b[0m         computed_fields\u001b[38;5;241m=\u001b[39m[\n\u001b[1;32m    521\u001b[0m             \u001b[38;5;28mself\u001b[39m\u001b[38;5;241m.\u001b[39m_computed_field_schema(d, decorators\u001b[38;5;241m.\u001b[39mfield_serializers)\n\u001b[1;32m    522\u001b[0m             \u001b[38;5;28;01mfor\u001b[39;00m d \u001b[38;5;129;01min\u001b[39;00m computed_fields\u001b[38;5;241m.\u001b[39mvalues()\n\u001b[1;32m    523\u001b[0m         ],\n\u001b[1;32m    524\u001b[0m         extra_validator\u001b[38;5;241m=\u001b[39mextra_validator,\n\u001b[1;32m    525\u001b[0m         model_name\u001b[38;5;241m=\u001b[39m\u001b[38;5;28mcls\u001b[39m\u001b[38;5;241m.\u001b[39m\u001b[38;5;18m__name__\u001b[39m,\n\u001b[1;32m    526\u001b[0m     )\n\u001b[1;32m    527\u001b[0m     inner_schema \u001b[38;5;241m=\u001b[39m apply_validators(fields_schema, decorators\u001b[38;5;241m.\u001b[39mroot_validators\u001b[38;5;241m.\u001b[39mvalues(), \u001b[38;5;28;01mNone\u001b[39;00m)\n\u001b[1;32m    528\u001b[0m     inner_schema \u001b[38;5;241m=\u001b[39m define_expected_missing_refs(inner_schema, recursively_defined_type_refs())\n",
      "File \u001b[0;32m~/.pyenv/versions/3.9.9/envs/scraper/lib/python3.9/site-packages/pydantic/_internal/_generate_schema.py:519\u001b[0m, in \u001b[0;36m<dictcomp>\u001b[0;34m(.0)\u001b[0m\n\u001b[1;32m    507\u001b[0m     model_schema \u001b[38;5;241m=\u001b[39m core_schema\u001b[38;5;241m.\u001b[39mmodel_schema(\n\u001b[1;32m    508\u001b[0m         \u001b[38;5;28mcls\u001b[39m,\n\u001b[1;32m    509\u001b[0m         inner_schema,\n\u001b[0;32m   (...)\u001b[0m\n\u001b[1;32m    515\u001b[0m         metadata\u001b[38;5;241m=\u001b[39mmetadata,\n\u001b[1;32m    516\u001b[0m     )\n\u001b[1;32m    517\u001b[0m \u001b[38;5;28;01melse\u001b[39;00m:\n\u001b[1;32m    518\u001b[0m     fields_schema: core_schema\u001b[38;5;241m.\u001b[39mCoreSchema \u001b[38;5;241m=\u001b[39m core_schema\u001b[38;5;241m.\u001b[39mmodel_fields_schema(\n\u001b[0;32m--> 519\u001b[0m         {k: \u001b[38;5;28;43mself\u001b[39;49m\u001b[38;5;241;43m.\u001b[39;49m\u001b[43m_generate_md_field_schema\u001b[49m\u001b[43m(\u001b[49m\u001b[43mk\u001b[49m\u001b[43m,\u001b[49m\u001b[43m \u001b[49m\u001b[43mv\u001b[49m\u001b[43m,\u001b[49m\u001b[43m \u001b[49m\u001b[43mdecorators\u001b[49m\u001b[43m)\u001b[49m \u001b[38;5;28;01mfor\u001b[39;00m k, v \u001b[38;5;129;01min\u001b[39;00m fields\u001b[38;5;241m.\u001b[39mitems()},\n\u001b[1;32m    520\u001b[0m         computed_fields\u001b[38;5;241m=\u001b[39m[\n\u001b[1;32m    521\u001b[0m             \u001b[38;5;28mself\u001b[39m\u001b[38;5;241m.\u001b[39m_computed_field_schema(d, decorators\u001b[38;5;241m.\u001b[39mfield_serializers)\n\u001b[1;32m    522\u001b[0m             \u001b[38;5;28;01mfor\u001b[39;00m d \u001b[38;5;129;01min\u001b[39;00m computed_fields\u001b[38;5;241m.\u001b[39mvalues()\n\u001b[1;32m    523\u001b[0m         ],\n\u001b[1;32m    524\u001b[0m         extra_validator\u001b[38;5;241m=\u001b[39mextra_validator,\n\u001b[1;32m    525\u001b[0m         model_name\u001b[38;5;241m=\u001b[39m\u001b[38;5;28mcls\u001b[39m\u001b[38;5;241m.\u001b[39m\u001b[38;5;18m__name__\u001b[39m,\n\u001b[1;32m    526\u001b[0m     )\n\u001b[1;32m    527\u001b[0m     inner_schema \u001b[38;5;241m=\u001b[39m apply_validators(fields_schema, decorators\u001b[38;5;241m.\u001b[39mroot_validators\u001b[38;5;241m.\u001b[39mvalues(), \u001b[38;5;28;01mNone\u001b[39;00m)\n\u001b[1;32m    528\u001b[0m     inner_schema \u001b[38;5;241m=\u001b[39m define_expected_missing_refs(inner_schema, recursively_defined_type_refs())\n",
      "File \u001b[0;32m~/.pyenv/versions/3.9.9/envs/scraper/lib/python3.9/site-packages/pydantic/_internal/_generate_schema.py:853\u001b[0m, in \u001b[0;36mGenerateSchema._generate_md_field_schema\u001b[0;34m(self, name, field_info, decorators)\u001b[0m\n\u001b[1;32m    846\u001b[0m \u001b[38;5;28;01mdef\u001b[39;00m \u001b[38;5;21m_generate_md_field_schema\u001b[39m(\n\u001b[1;32m    847\u001b[0m     \u001b[38;5;28mself\u001b[39m,\n\u001b[1;32m    848\u001b[0m     name: \u001b[38;5;28mstr\u001b[39m,\n\u001b[1;32m    849\u001b[0m     field_info: FieldInfo,\n\u001b[1;32m    850\u001b[0m     decorators: DecoratorInfos,\n\u001b[1;32m    851\u001b[0m ) \u001b[38;5;241m-\u001b[39m\u001b[38;5;241m>\u001b[39m core_schema\u001b[38;5;241m.\u001b[39mModelField:\n\u001b[1;32m    852\u001b[0m \u001b[38;5;250m    \u001b[39m\u001b[38;5;124;03m\"\"\"Prepare a ModelField to represent a model field.\"\"\"\u001b[39;00m\n\u001b[0;32m--> 853\u001b[0m     common_field \u001b[38;5;241m=\u001b[39m \u001b[38;5;28;43mself\u001b[39;49m\u001b[38;5;241;43m.\u001b[39;49m\u001b[43m_common_field_schema\u001b[49m\u001b[43m(\u001b[49m\u001b[43mname\u001b[49m\u001b[43m,\u001b[49m\u001b[43m \u001b[49m\u001b[43mfield_info\u001b[49m\u001b[43m,\u001b[49m\u001b[43m \u001b[49m\u001b[43mdecorators\u001b[49m\u001b[43m)\u001b[49m\n\u001b[1;32m    854\u001b[0m     \u001b[38;5;28;01mreturn\u001b[39;00m core_schema\u001b[38;5;241m.\u001b[39mmodel_field(\n\u001b[1;32m    855\u001b[0m         common_field[\u001b[38;5;124m'\u001b[39m\u001b[38;5;124mschema\u001b[39m\u001b[38;5;124m'\u001b[39m],\n\u001b[1;32m    856\u001b[0m         serialization_exclude\u001b[38;5;241m=\u001b[39mcommon_field[\u001b[38;5;124m'\u001b[39m\u001b[38;5;124mserialization_exclude\u001b[39m\u001b[38;5;124m'\u001b[39m],\n\u001b[0;32m   (...)\u001b[0m\n\u001b[1;32m    860\u001b[0m         metadata\u001b[38;5;241m=\u001b[39mcommon_field[\u001b[38;5;124m'\u001b[39m\u001b[38;5;124mmetadata\u001b[39m\u001b[38;5;124m'\u001b[39m],\n\u001b[1;32m    861\u001b[0m     )\n",
      "File \u001b[0;32m~/.pyenv/versions/3.9.9/envs/scraper/lib/python3.9/site-packages/pydantic/_internal/_generate_schema.py:905\u001b[0m, in \u001b[0;36mGenerateSchema._common_field_schema\u001b[0;34m(self, name, field_info, decorators)\u001b[0m\n\u001b[1;32m    903\u001b[0m     schema \u001b[38;5;241m=\u001b[39m \u001b[38;5;28mself\u001b[39m\u001b[38;5;241m.\u001b[39m_apply_annotations(source_type, annotations, transform_inner_schema\u001b[38;5;241m=\u001b[39mset_discriminator)\n\u001b[1;32m    904\u001b[0m \u001b[38;5;28;01melse\u001b[39;00m:\n\u001b[0;32m--> 905\u001b[0m     schema \u001b[38;5;241m=\u001b[39m \u001b[38;5;28;43mself\u001b[39;49m\u001b[38;5;241;43m.\u001b[39;49m\u001b[43m_apply_annotations\u001b[49m\u001b[43m(\u001b[49m\n\u001b[1;32m    906\u001b[0m \u001b[43m        \u001b[49m\u001b[43msource_type\u001b[49m\u001b[43m,\u001b[49m\n\u001b[1;32m    907\u001b[0m \u001b[43m        \u001b[49m\u001b[43mannotations\u001b[49m\u001b[43m,\u001b[49m\n\u001b[1;32m    908\u001b[0m \u001b[43m    \u001b[49m\u001b[43m)\u001b[49m\n\u001b[1;32m    910\u001b[0m \u001b[38;5;66;03m# This V1 compatibility shim should eventually be removed\u001b[39;00m\n\u001b[1;32m    911\u001b[0m \u001b[38;5;66;03m# push down any `each_item=True` validators\u001b[39;00m\n\u001b[1;32m    912\u001b[0m \u001b[38;5;66;03m# note that this won't work for any Annotated types that get wrapped by a function validator\u001b[39;00m\n\u001b[1;32m    913\u001b[0m \u001b[38;5;66;03m# but that's okay because that didn't exist in V1\u001b[39;00m\n\u001b[1;32m    914\u001b[0m this_field_validators \u001b[38;5;241m=\u001b[39m filter_field_decorator_info_by_field(decorators\u001b[38;5;241m.\u001b[39mvalidators\u001b[38;5;241m.\u001b[39mvalues(), name)\n",
      "File \u001b[0;32m~/.pyenv/versions/3.9.9/envs/scraper/lib/python3.9/site-packages/pydantic/_internal/_generate_schema.py:1610\u001b[0m, in \u001b[0;36mGenerateSchema._apply_annotations\u001b[0;34m(self, source_type, annotations, transform_inner_schema)\u001b[0m\n\u001b[1;32m   1605\u001b[0m     annotation \u001b[38;5;241m=\u001b[39m annotations[idx]\n\u001b[1;32m   1606\u001b[0m     get_inner_schema \u001b[38;5;241m=\u001b[39m \u001b[38;5;28mself\u001b[39m\u001b[38;5;241m.\u001b[39m_get_wrapped_inner_schema(\n\u001b[1;32m   1607\u001b[0m         get_inner_schema, annotation, pydantic_js_annotation_functions\n\u001b[1;32m   1608\u001b[0m     )\n\u001b[0;32m-> 1610\u001b[0m schema \u001b[38;5;241m=\u001b[39m \u001b[43mget_inner_schema\u001b[49m\u001b[43m(\u001b[49m\u001b[43msource_type\u001b[49m\u001b[43m)\u001b[49m\n\u001b[1;32m   1611\u001b[0m \u001b[38;5;28;01mif\u001b[39;00m pydantic_js_annotation_functions:\n\u001b[1;32m   1612\u001b[0m     metadata \u001b[38;5;241m=\u001b[39m CoreMetadataHandler(schema)\u001b[38;5;241m.\u001b[39mmetadata\n",
      "File \u001b[0;32m~/.pyenv/versions/3.9.9/envs/scraper/lib/python3.9/site-packages/pydantic/_internal/_schema_generation_shared.py:82\u001b[0m, in \u001b[0;36mCallbackGetCoreSchemaHandler.__call__\u001b[0;34m(self, _CallbackGetCoreSchemaHandler__source_type)\u001b[0m\n\u001b[1;32m     81\u001b[0m \u001b[38;5;28;01mdef\u001b[39;00m \u001b[38;5;21m__call__\u001b[39m(\u001b[38;5;28mself\u001b[39m, __source_type: Any) \u001b[38;5;241m-\u001b[39m\u001b[38;5;241m>\u001b[39m core_schema\u001b[38;5;241m.\u001b[39mCoreSchema:\n\u001b[0;32m---> 82\u001b[0m     schema \u001b[38;5;241m=\u001b[39m \u001b[38;5;28;43mself\u001b[39;49m\u001b[38;5;241;43m.\u001b[39;49m\u001b[43m_handler\u001b[49m\u001b[43m(\u001b[49m\u001b[43m__source_type\u001b[49m\u001b[43m)\u001b[49m\n\u001b[1;32m     83\u001b[0m     ref \u001b[38;5;241m=\u001b[39m schema\u001b[38;5;241m.\u001b[39mget(\u001b[38;5;124m'\u001b[39m\u001b[38;5;124mref\u001b[39m\u001b[38;5;124m'\u001b[39m)\n\u001b[1;32m     84\u001b[0m     \u001b[38;5;28;01mif\u001b[39;00m \u001b[38;5;28mself\u001b[39m\u001b[38;5;241m.\u001b[39m_ref_mode \u001b[38;5;241m==\u001b[39m \u001b[38;5;124m'\u001b[39m\u001b[38;5;124mto-def\u001b[39m\u001b[38;5;124m'\u001b[39m:\n",
      "File \u001b[0;32m~/.pyenv/versions/3.9.9/envs/scraper/lib/python3.9/site-packages/pydantic/_internal/_generate_schema.py:1574\u001b[0m, in \u001b[0;36mGenerateSchema._apply_annotations.<locals>.inner_handler\u001b[0;34m(obj)\u001b[0m\n\u001b[1;32m   1572\u001b[0m from_property \u001b[38;5;241m=\u001b[39m \u001b[38;5;28mself\u001b[39m\u001b[38;5;241m.\u001b[39m_generate_schema_from_property(obj, obj)\n\u001b[1;32m   1573\u001b[0m \u001b[38;5;28;01mif\u001b[39;00m from_property \u001b[38;5;129;01mis\u001b[39;00m \u001b[38;5;28;01mNone\u001b[39;00m:\n\u001b[0;32m-> 1574\u001b[0m     schema \u001b[38;5;241m=\u001b[39m \u001b[38;5;28;43mself\u001b[39;49m\u001b[38;5;241;43m.\u001b[39;49m\u001b[43m_generate_schema\u001b[49m\u001b[43m(\u001b[49m\u001b[43mobj\u001b[49m\u001b[43m)\u001b[49m\n\u001b[1;32m   1575\u001b[0m \u001b[38;5;28;01melse\u001b[39;00m:\n\u001b[1;32m   1576\u001b[0m     schema \u001b[38;5;241m=\u001b[39m from_property\n",
      "File \u001b[0;32m~/.pyenv/versions/3.9.9/envs/scraper/lib/python3.9/site-packages/pydantic/_internal/_generate_schema.py:694\u001b[0m, in \u001b[0;36mGenerateSchema._generate_schema\u001b[0;34m(self, obj)\u001b[0m\n\u001b[1;32m    691\u001b[0m \u001b[38;5;28;01mif\u001b[39;00m \u001b[38;5;28misinstance\u001b[39m(obj, PydanticRecursiveRef):\n\u001b[1;32m    692\u001b[0m     \u001b[38;5;28;01mreturn\u001b[39;00m core_schema\u001b[38;5;241m.\u001b[39mdefinition_reference_schema(schema_ref\u001b[38;5;241m=\u001b[39mobj\u001b[38;5;241m.\u001b[39mtype_ref)\n\u001b[0;32m--> 694\u001b[0m \u001b[38;5;28;01mreturn\u001b[39;00m \u001b[38;5;28;43mself\u001b[39;49m\u001b[38;5;241;43m.\u001b[39;49m\u001b[43mmatch_type\u001b[49m\u001b[43m(\u001b[49m\u001b[43mobj\u001b[49m\u001b[43m)\u001b[49m\n",
      "File \u001b[0;32m~/.pyenv/versions/3.9.9/envs/scraper/lib/python3.9/site-packages/pydantic/_internal/_generate_schema.py:777\u001b[0m, in \u001b[0;36mGenerateSchema.match_type\u001b[0;34m(self, obj)\u001b[0m\n\u001b[1;32m    775\u001b[0m origin \u001b[38;5;241m=\u001b[39m get_origin(obj)\n\u001b[1;32m    776\u001b[0m \u001b[38;5;28;01mif\u001b[39;00m origin \u001b[38;5;129;01mis\u001b[39;00m \u001b[38;5;129;01mnot\u001b[39;00m \u001b[38;5;28;01mNone\u001b[39;00m:\n\u001b[0;32m--> 777\u001b[0m     \u001b[38;5;28;01mreturn\u001b[39;00m \u001b[38;5;28;43mself\u001b[39;49m\u001b[38;5;241;43m.\u001b[39;49m\u001b[43m_match_generic_type\u001b[49m\u001b[43m(\u001b[49m\u001b[43mobj\u001b[49m\u001b[43m,\u001b[49m\u001b[43m \u001b[49m\u001b[43morigin\u001b[49m\u001b[43m)\u001b[49m\n\u001b[1;32m    779\u001b[0m \u001b[38;5;28;01mif\u001b[39;00m \u001b[38;5;28mself\u001b[39m\u001b[38;5;241m.\u001b[39m_arbitrary_types:\n\u001b[1;32m    780\u001b[0m     \u001b[38;5;28;01mreturn\u001b[39;00m \u001b[38;5;28mself\u001b[39m\u001b[38;5;241m.\u001b[39m_arbitrary_type_schema(obj)\n",
      "File \u001b[0;32m~/.pyenv/versions/3.9.9/envs/scraper/lib/python3.9/site-packages/pydantic/_internal/_generate_schema.py:801\u001b[0m, in \u001b[0;36mGenerateSchema._match_generic_type\u001b[0;34m(self, obj, origin)\u001b[0m\n\u001b[1;32m    798\u001b[0m     \u001b[38;5;28;01mreturn\u001b[39;00m from_property\n\u001b[1;32m    800\u001b[0m \u001b[38;5;28;01mif\u001b[39;00m _typing_extra\u001b[38;5;241m.\u001b[39morigin_is_union(origin):\n\u001b[0;32m--> 801\u001b[0m     \u001b[38;5;28;01mreturn\u001b[39;00m \u001b[38;5;28;43mself\u001b[39;49m\u001b[38;5;241;43m.\u001b[39;49m\u001b[43m_union_schema\u001b[49m\u001b[43m(\u001b[49m\u001b[43mobj\u001b[49m\u001b[43m)\u001b[49m\n\u001b[1;32m    802\u001b[0m \u001b[38;5;28;01melif\u001b[39;00m origin \u001b[38;5;129;01min\u001b[39;00m TUPLE_TYPES:\n\u001b[1;32m    803\u001b[0m     \u001b[38;5;28;01mreturn\u001b[39;00m \u001b[38;5;28mself\u001b[39m\u001b[38;5;241m.\u001b[39m_tuple_schema(obj)\n",
      "File \u001b[0;32m~/.pyenv/versions/3.9.9/envs/scraper/lib/python3.9/site-packages/pydantic/_internal/_generate_schema.py:988\u001b[0m, in \u001b[0;36mGenerateSchema._union_schema\u001b[0;34m(self, union_type)\u001b[0m\n\u001b[1;32m    986\u001b[0m         nullable \u001b[38;5;241m=\u001b[39m \u001b[38;5;28;01mTrue\u001b[39;00m\n\u001b[1;32m    987\u001b[0m     \u001b[38;5;28;01melse\u001b[39;00m:\n\u001b[0;32m--> 988\u001b[0m         choices\u001b[38;5;241m.\u001b[39mappend(\u001b[38;5;28;43mself\u001b[39;49m\u001b[38;5;241;43m.\u001b[39;49m\u001b[43mgenerate_schema\u001b[49m\u001b[43m(\u001b[49m\u001b[43marg\u001b[49m\u001b[43m)\u001b[49m)\n\u001b[1;32m    990\u001b[0m \u001b[38;5;28;01mif\u001b[39;00m \u001b[38;5;28mlen\u001b[39m(choices) \u001b[38;5;241m==\u001b[39m \u001b[38;5;241m1\u001b[39m:\n\u001b[1;32m    991\u001b[0m     first_choice \u001b[38;5;241m=\u001b[39m choices[\u001b[38;5;241m0\u001b[39m]\n",
      "File \u001b[0;32m~/.pyenv/versions/3.9.9/envs/scraper/lib/python3.9/site-packages/pydantic/_internal/_generate_schema.py:440\u001b[0m, in \u001b[0;36mGenerateSchema.generate_schema\u001b[0;34m(self, obj, from_dunder_get_core_schema, from_prepare_args)\u001b[0m\n\u001b[1;32m    437\u001b[0m schema: CoreSchema \u001b[38;5;241m|\u001b[39m \u001b[38;5;28;01mNone\u001b[39;00m \u001b[38;5;241m=\u001b[39m \u001b[38;5;28;01mNone\u001b[39;00m\n\u001b[1;32m    439\u001b[0m \u001b[38;5;28;01mif\u001b[39;00m from_prepare_args:\n\u001b[0;32m--> 440\u001b[0m     schema \u001b[38;5;241m=\u001b[39m \u001b[38;5;28;43mself\u001b[39;49m\u001b[38;5;241;43m.\u001b[39;49m\u001b[43m_generate_schema_from_prepare_annotations\u001b[49m\u001b[43m(\u001b[49m\u001b[43mobj\u001b[49m\u001b[43m)\u001b[49m\n\u001b[1;32m    442\u001b[0m \u001b[38;5;28;01mif\u001b[39;00m from_dunder_get_core_schema:\n\u001b[1;32m    443\u001b[0m     from_property \u001b[38;5;241m=\u001b[39m \u001b[38;5;28mself\u001b[39m\u001b[38;5;241m.\u001b[39m_generate_schema_from_property(obj, obj)\n",
      "File \u001b[0;32m~/.pyenv/versions/3.9.9/envs/scraper/lib/python3.9/site-packages/pydantic/_internal/_generate_schema.py:551\u001b[0m, in \u001b[0;36mGenerateSchema._generate_schema_from_prepare_annotations\u001b[0;34m(self, obj)\u001b[0m\n\u001b[1;32m    547\u001b[0m \u001b[38;5;28;01mdef\u001b[39;00m \u001b[38;5;21m_generate_schema_from_prepare_annotations\u001b[39m(\u001b[38;5;28mself\u001b[39m, obj: Any) \u001b[38;5;241m-\u001b[39m\u001b[38;5;241m>\u001b[39m core_schema\u001b[38;5;241m.\u001b[39mCoreSchema \u001b[38;5;241m|\u001b[39m \u001b[38;5;28;01mNone\u001b[39;00m:\n\u001b[1;32m    548\u001b[0m \u001b[38;5;250m    \u001b[39m\u001b[38;5;124;03m\"\"\"Try to generate schema from either the `__prepare_pydantic_annotations__` function or\u001b[39;00m\n\u001b[1;32m    549\u001b[0m \u001b[38;5;124;03m    `__prepare_pydantic_annotations__` property.\u001b[39;00m\n\u001b[1;32m    550\u001b[0m \u001b[38;5;124;03m    \"\"\"\u001b[39;00m\n\u001b[0;32m--> 551\u001b[0m     new_obj, new_annotations \u001b[38;5;241m=\u001b[39m \u001b[38;5;28;43mself\u001b[39;49m\u001b[38;5;241;43m.\u001b[39;49m\u001b[43m_prepare_annotations\u001b[49m\u001b[43m(\u001b[49m\u001b[43mobj\u001b[49m\u001b[43m,\u001b[49m\u001b[43m \u001b[49m\u001b[43m[\u001b[49m\u001b[43m]\u001b[49m\u001b[43m)\u001b[49m\n\u001b[1;32m    552\u001b[0m     \u001b[38;5;28;01mif\u001b[39;00m new_obj \u001b[38;5;129;01mis\u001b[39;00m \u001b[38;5;129;01mnot\u001b[39;00m obj \u001b[38;5;129;01mor\u001b[39;00m new_annotations:\n\u001b[1;32m    553\u001b[0m         \u001b[38;5;28;01mreturn\u001b[39;00m \u001b[38;5;28mself\u001b[39m\u001b[38;5;241m.\u001b[39m_apply_annotations(\n\u001b[1;32m    554\u001b[0m             new_obj,\n\u001b[1;32m    555\u001b[0m             new_annotations,\n\u001b[1;32m    556\u001b[0m         )\n",
      "File \u001b[0;32m~/.pyenv/versions/3.9.9/envs/scraper/lib/python3.9/site-packages/pydantic/_internal/_generate_schema.py:1530\u001b[0m, in \u001b[0;36mGenerateSchema._prepare_annotations\u001b[0;34m(self, source_type, annotations)\u001b[0m\n\u001b[1;32m   1523\u001b[0m \u001b[38;5;28;01mdef\u001b[39;00m \u001b[38;5;21m_prepare_annotations\u001b[39m(\u001b[38;5;28mself\u001b[39m, source_type: Any, annotations: Iterable[Any]) \u001b[38;5;241m-\u001b[39m\u001b[38;5;241m>\u001b[39m \u001b[38;5;28mtuple\u001b[39m[Any, \u001b[38;5;28mlist\u001b[39m[Any]]:\n\u001b[1;32m   1524\u001b[0m \u001b[38;5;250m    \u001b[39m\u001b[38;5;124;03m\"\"\"Call `__prepare_pydantic_annotations__` if it exists and return a tuple of\u001b[39;00m\n\u001b[1;32m   1525\u001b[0m \u001b[38;5;124;03m        (new_source_type, new_annotations).\u001b[39;00m\n\u001b[1;32m   1526\u001b[0m \n\u001b[1;32m   1527\u001b[0m \u001b[38;5;124;03m    This should be treated conceptually similar to the transformation\u001b[39;00m\n\u001b[1;32m   1528\u001b[0m \u001b[38;5;124;03m    `Annotated[source_type, *annotations]` -> `Annotated[new_source_type, *new_annotations]`\u001b[39;00m\n\u001b[1;32m   1529\u001b[0m \u001b[38;5;124;03m    \"\"\"\u001b[39;00m\n\u001b[0;32m-> 1530\u001b[0m     prepare \u001b[38;5;241m=\u001b[39m \u001b[38;5;28;43mgetattr\u001b[39;49m\u001b[43m(\u001b[49m\u001b[43msource_type\u001b[49m\u001b[43m,\u001b[49m\u001b[43m \u001b[49m\u001b[38;5;124;43m'\u001b[39;49m\u001b[38;5;124;43m__prepare_pydantic_annotations__\u001b[39;49m\u001b[38;5;124;43m'\u001b[39;49m\u001b[43m,\u001b[49m\u001b[43m \u001b[49m\u001b[38;5;28;43;01mNone\u001b[39;49;00m\u001b[43m)\u001b[49m\n\u001b[1;32m   1532\u001b[0m     annotations \u001b[38;5;241m=\u001b[39m \u001b[38;5;28mtuple\u001b[39m(annotations)  \u001b[38;5;66;03m# make them immutable to avoid confusion over mutating them\u001b[39;00m\n\u001b[1;32m   1534\u001b[0m     \u001b[38;5;28;01mif\u001b[39;00m prepare \u001b[38;5;129;01mis\u001b[39;00m \u001b[38;5;129;01mnot\u001b[39;00m \u001b[38;5;28;01mNone\u001b[39;00m:\n",
      "File \u001b[0;32m~/.pyenv/versions/3.9.9/envs/scraper/lib/python3.9/site-packages/trulens_eval/utils/imports.py:216\u001b[0m, in \u001b[0;36mDummy.__getattr__\u001b[0;34m(self, name)\u001b[0m\n\u001b[1;32m    212\u001b[0m     \u001b[38;5;28;01mreturn\u001b[39;00m Dummy(name\u001b[38;5;241m=\u001b[39m\u001b[38;5;28mself\u001b[39m\u001b[38;5;241m.\u001b[39mname \u001b[38;5;241m+\u001b[39m \u001b[38;5;124m\"\u001b[39m\u001b[38;5;124m.\u001b[39m\u001b[38;5;124m\"\u001b[39m \u001b[38;5;241m+\u001b[39m name, message\u001b[38;5;241m=\u001b[39m\u001b[38;5;28mself\u001b[39m\u001b[38;5;241m.\u001b[39mmessage, importer\u001b[38;5;241m=\u001b[39m\u001b[38;5;28mself\u001b[39m\u001b[38;5;241m.\u001b[39mimporter)\n\u001b[1;32m    214\u001b[0m \u001b[38;5;66;03m# If we are no longer in optional imports context, raise the exception\u001b[39;00m\n\u001b[1;32m    215\u001b[0m \u001b[38;5;66;03m# with the optional package message.\u001b[39;00m\n\u001b[0;32m--> 216\u001b[0m \u001b[38;5;28;01mraise\u001b[39;00m \u001b[38;5;28mself\u001b[39m\u001b[38;5;241m.\u001b[39mexception_class(\u001b[38;5;28mself\u001b[39m\u001b[38;5;241m.\u001b[39mmessage)\n",
      "\u001b[0;31mModuleNotFoundError\u001b[0m: \nllama-index package is required for instrumenting llama_index apps.\nYou should be able to install it with pip:\n\n    pip install 'llama-index>=v0.9.14.post3\n"
     ]
    }
   ],
   "source": [
    "from trulens_eval import Tru\n",
    "from trulens_eval.tru_custom_app import instrument\n",
    "tru = Tru()"
   ]
  },
  {
   "cell_type": "code",
   "execution_count": 33,
   "id": "1f370f4c-503c-4a26-8641-e2a28f8dbf5a",
   "metadata": {},
   "outputs": [
    {
     "ename": "NameError",
     "evalue": "name 'instrument' is not defined",
     "output_type": "error",
     "traceback": [
      "\u001b[0;31m---------------------------------------------------------------------------\u001b[0m",
      "\u001b[0;31mNameError\u001b[0m                                 Traceback (most recent call last)",
      "Cell \u001b[0;32mIn[33], line 1\u001b[0m\n\u001b[0;32m----> 1\u001b[0m \u001b[38;5;28;01mclass\u001b[39;00m \u001b[38;5;21;01mRAG_from_scratch\u001b[39;00m:\n\u001b[1;32m      2\u001b[0m     \u001b[38;5;129m@instrument\u001b[39m\n\u001b[1;32m      3\u001b[0m     \u001b[38;5;28;01mdef\u001b[39;00m \u001b[38;5;21mretrieve\u001b[39m(\u001b[38;5;28mself\u001b[39m, query: \u001b[38;5;28mstr\u001b[39m) \u001b[38;5;241m-\u001b[39m\u001b[38;5;241m>\u001b[39m \u001b[38;5;28mlist\u001b[39m:\n\u001b[1;32m      4\u001b[0m \u001b[38;5;250m        \u001b[39m\u001b[38;5;124;03m\"\"\"\u001b[39;00m\n\u001b[1;32m      5\u001b[0m \u001b[38;5;124;03m        Retrieve relevant text from vector store.\u001b[39;00m\n\u001b[1;32m      6\u001b[0m \u001b[38;5;124;03m        \"\"\"\u001b[39;00m\n",
      "Cell \u001b[0;32mIn[33], line 2\u001b[0m, in \u001b[0;36mRAG_from_scratch\u001b[0;34m()\u001b[0m\n\u001b[1;32m      1\u001b[0m \u001b[38;5;28;01mclass\u001b[39;00m \u001b[38;5;21;01mRAG_from_scratch\u001b[39;00m:\n\u001b[0;32m----> 2\u001b[0m     \u001b[38;5;129m@instrument\u001b[39m\n\u001b[1;32m      3\u001b[0m     \u001b[38;5;28;01mdef\u001b[39;00m \u001b[38;5;21mretrieve\u001b[39m(\u001b[38;5;28mself\u001b[39m, query: \u001b[38;5;28mstr\u001b[39m) \u001b[38;5;241m-\u001b[39m\u001b[38;5;241m>\u001b[39m \u001b[38;5;28mlist\u001b[39m:\n\u001b[1;32m      4\u001b[0m \u001b[38;5;250m        \u001b[39m\u001b[38;5;124;03m\"\"\"\u001b[39;00m\n\u001b[1;32m      5\u001b[0m \u001b[38;5;124;03m        Retrieve relevant text from vector store.\u001b[39;00m\n\u001b[1;32m      6\u001b[0m \u001b[38;5;124;03m        \"\"\"\u001b[39;00m\n\u001b[1;32m      7\u001b[0m         retriever \u001b[38;5;241m=\u001b[39m vectordb\u001b[38;5;241m.\u001b[39mas_retriever()\n",
      "\u001b[0;31mNameError\u001b[0m: name 'instrument' is not defined"
     ]
    }
   ],
   "source": [
    "class RAG_from_scratch:\n",
    "    @instrument\n",
    "    def retrieve(self, query: str) -> list:\n",
    "        \"\"\"\n",
    "        Retrieve relevant text from vector store.\n",
    "        \"\"\"\n",
    "        retriever = vectordb.as_retriever()\n",
    "        results = retriever.get_relevant_documents(query) \n",
    "        return results[0]  \n",
    "\n",
    "    \n",
    "    @instrument\n",
    "    def generate_completion(self, query:str, context_str: list) -> str:\n",
    "        \"\"\"\n",
    "        Generate answer from context.\n",
    "        \"\"\"\n",
    "        message = [{\n",
    "            \"role\": \"user\",\n",
    "            \"parts\": [\n",
    "                f\"We have provided context information below. \\n\"\n",
    "                f\"---------------------\\n\"\n",
    "                f\"{context_str}\"\n",
    "                f\"\\n---------------------\\n\"\n",
    "                f\"Given this information, please answer the question: {query}\"\n",
    "            ]\n",
    "        }]\n",
    "        model = genai.GenerativeModel('gemini-pro')\n",
    "        response = model.generate_content(message)\n",
    "        response_txt = response.text\n",
    "        return response_txt\n",
    "        \n",
    "\n",
    "    @instrument\n",
    "    def query(self, query:str ) -> str:\n",
    "        context_str = self.retrieve(query)\n",
    "        completion = self.generate_completion(query, context_str)\n",
    "        return completion\n",
    "    \n",
    "rag = RAG_from_scratch()\n"
   ]
  },
  {
   "cell_type": "code",
   "execution_count": 38,
   "id": "b05660e7-2c0e-45c9-b761-f54a7e12404a",
   "metadata": {},
   "outputs": [],
   "source": [
    "# # Usage\n",
    "# rag_instance = RAG_from_scratch()\n",
    "# my_query = \"What is the news about Pando?\"\n",
    "# result = rag_instance.query(my_query)\n",
    "# print(result)\n",
    "\n"
   ]
  },
  {
   "cell_type": "code",
   "execution_count": 39,
   "id": "dbe8f7e1-7fc3-4bdd-9551-964a6a4bf4d0",
   "metadata": {},
   "outputs": [],
   "source": [
    "#Evaluation using TrueLens\n"
   ]
  },
  {
   "cell_type": "code",
   "execution_count": 24,
   "id": "0a9342d7-b0bb-40ca-a982-34810f83e812",
   "metadata": {},
   "outputs": [],
   "source": [
    "# !pip install trulens-eval"
   ]
  },
  {
   "cell_type": "code",
   "execution_count": 25,
   "id": "f6e9794f-823b-4e07-9fe0-0257aa741b3e",
   "metadata": {},
   "outputs": [
    {
     "name": "stdout",
     "output_type": "stream",
     "text": [
      "Defaulting to user installation because normal site-packages is not writeable\n",
      "Collecting streamlit_javascript\n",
      "  Using cached streamlit_javascript-0.1.5-py3-none-any.whl (518 kB)\n",
      "Requirement already satisfied: streamlit>=0.75 in /home/mn/.local/lib/python3.10/site-packages (from streamlit_javascript) (1.29.0)\n",
      "Requirement already satisfied: packaging<24,>=16.8 in /home/mn/.local/lib/python3.10/site-packages (from streamlit>=0.75->streamlit_javascript) (23.2)\n",
      "Requirement already satisfied: pydeck<1,>=0.8.0b4 in /home/mn/.local/lib/python3.10/site-packages (from streamlit>=0.75->streamlit_javascript) (0.8.1b0)\n",
      "Requirement already satisfied: blinker<2,>=1.0.0 in /home/mn/.local/lib/python3.10/site-packages (from streamlit>=0.75->streamlit_javascript) (1.6.2)\n",
      "Requirement already satisfied: gitpython!=3.1.19,<4,>=3.0.7 in /home/mn/.local/lib/python3.10/site-packages (from streamlit>=0.75->streamlit_javascript) (3.1.40)\n",
      "Requirement already satisfied: pillow<11,>=7.1.0 in /usr/lib/python3/dist-packages (from streamlit>=0.75->streamlit_javascript) (9.0.1)\n",
      "Requirement already satisfied: altair<6,>=4.0 in /home/mn/.local/lib/python3.10/site-packages (from streamlit>=0.75->streamlit_javascript) (5.2.0)\n",
      "Requirement already satisfied: protobuf<5,>=3.20 in /home/mn/.local/lib/python3.10/site-packages (from streamlit>=0.75->streamlit_javascript) (4.25.1)\n",
      "Requirement already satisfied: pyarrow>=6.0 in /home/mn/.local/lib/python3.10/site-packages (from streamlit>=0.75->streamlit_javascript) (14.0.1)\n",
      "Requirement already satisfied: click<9,>=7.0 in /home/mn/.local/lib/python3.10/site-packages (from streamlit>=0.75->streamlit_javascript) (7.1.2)\n",
      "Requirement already satisfied: toml<2,>=0.10.1 in /home/mn/.local/lib/python3.10/site-packages (from streamlit>=0.75->streamlit_javascript) (0.10.2)\n",
      "Requirement already satisfied: importlib-metadata<7,>=1.4 in /home/mn/.local/lib/python3.10/site-packages (from streamlit>=0.75->streamlit_javascript) (6.8.0)\n",
      "Requirement already satisfied: tzlocal<6,>=1.1 in /home/mn/.local/lib/python3.10/site-packages (from streamlit>=0.75->streamlit_javascript) (5.2)\n",
      "Requirement already satisfied: tornado<7,>=6.0.3 in /usr/local/lib/python3.10/dist-packages (from streamlit>=0.75->streamlit_javascript) (6.4)\n",
      "Requirement already satisfied: python-dateutil<3,>=2.7.3 in /home/mn/.local/lib/python3.10/site-packages (from streamlit>=0.75->streamlit_javascript) (2.8.2)\n",
      "Requirement already satisfied: tenacity<9,>=8.1.0 in /home/mn/.local/lib/python3.10/site-packages (from streamlit>=0.75->streamlit_javascript) (8.2.3)\n",
      "Requirement already satisfied: rich<14,>=10.14.0 in /home/mn/.local/lib/python3.10/site-packages (from streamlit>=0.75->streamlit_javascript) (13.7.0)\n",
      "Requirement already satisfied: validators<1,>=0.2 in /home/mn/.local/lib/python3.10/site-packages (from streamlit>=0.75->streamlit_javascript) (0.22.0)\n",
      "Requirement already satisfied: pandas<3,>=1.3.0 in /home/mn/.local/lib/python3.10/site-packages (from streamlit>=0.75->streamlit_javascript) (2.1.4)\n",
      "Requirement already satisfied: watchdog>=2.1.5 in /home/mn/.local/lib/python3.10/site-packages (from streamlit>=0.75->streamlit_javascript) (3.0.0)\n",
      "Requirement already satisfied: typing-extensions<5,>=4.3.0 in /home/mn/.local/lib/python3.10/site-packages (from streamlit>=0.75->streamlit_javascript) (4.8.0)\n",
      "Requirement already satisfied: numpy<2,>=1.19.3 in /home/mn/.local/lib/python3.10/site-packages (from streamlit>=0.75->streamlit_javascript) (1.26.2)\n",
      "Requirement already satisfied: requests<3,>=2.27 in /home/mn/.local/lib/python3.10/site-packages (from streamlit>=0.75->streamlit_javascript) (2.31.0)\n",
      "Requirement already satisfied: cachetools<6,>=4.0 in /home/mn/.local/lib/python3.10/site-packages (from streamlit>=0.75->streamlit_javascript) (5.3.2)\n",
      "Requirement already satisfied: toolz in /home/mn/.local/lib/python3.10/site-packages (from altair<6,>=4.0->streamlit>=0.75->streamlit_javascript) (0.12.0)\n",
      "Requirement already satisfied: jsonschema>=3.0 in /home/mn/.local/lib/python3.10/site-packages (from altair<6,>=4.0->streamlit>=0.75->streamlit_javascript) (4.20.0)\n",
      "Requirement already satisfied: jinja2 in /home/mn/.local/lib/python3.10/site-packages (from altair<6,>=4.0->streamlit>=0.75->streamlit_javascript) (3.1.2)\n",
      "Requirement already satisfied: gitdb<5,>=4.0.1 in /home/mn/.local/lib/python3.10/site-packages (from gitpython!=3.1.19,<4,>=3.0.7->streamlit>=0.75->streamlit_javascript) (4.0.11)\n",
      "Requirement already satisfied: zipp>=0.5 in /usr/lib/python3/dist-packages (from importlib-metadata<7,>=1.4->streamlit>=0.75->streamlit_javascript) (1.0.0)\n",
      "Requirement already satisfied: tzdata>=2022.1 in /home/mn/.local/lib/python3.10/site-packages (from pandas<3,>=1.3.0->streamlit>=0.75->streamlit_javascript) (2023.3)\n",
      "Requirement already satisfied: pytz>=2020.1 in /usr/lib/python3/dist-packages (from pandas<3,>=1.3.0->streamlit>=0.75->streamlit_javascript) (2022.1)\n",
      "Requirement already satisfied: six>=1.5 in /usr/lib/python3/dist-packages (from python-dateutil<3,>=2.7.3->streamlit>=0.75->streamlit_javascript) (1.16.0)\n",
      "Requirement already satisfied: certifi>=2017.4.17 in /usr/lib/python3/dist-packages (from requests<3,>=2.27->streamlit>=0.75->streamlit_javascript) (2020.6.20)\n",
      "Requirement already satisfied: urllib3<3,>=1.21.1 in /home/mn/.local/lib/python3.10/site-packages (from requests<3,>=2.27->streamlit>=0.75->streamlit_javascript) (1.26.18)\n",
      "Requirement already satisfied: idna<4,>=2.5 in /usr/lib/python3/dist-packages (from requests<3,>=2.27->streamlit>=0.75->streamlit_javascript) (3.3)\n",
      "Requirement already satisfied: charset-normalizer<4,>=2 in /home/mn/.local/lib/python3.10/site-packages (from requests<3,>=2.27->streamlit>=0.75->streamlit_javascript) (3.2.0)\n",
      "Requirement already satisfied: pygments<3.0.0,>=2.13.0 in /home/mn/.local/lib/python3.10/site-packages (from rich<14,>=10.14.0->streamlit>=0.75->streamlit_javascript) (2.17.2)\n",
      "Requirement already satisfied: markdown-it-py>=2.2.0 in /home/mn/.local/lib/python3.10/site-packages (from rich<14,>=10.14.0->streamlit>=0.75->streamlit_javascript) (3.0.0)\n",
      "Requirement already satisfied: smmap<6,>=3.0.1 in /home/mn/.local/lib/python3.10/site-packages (from gitdb<5,>=4.0.1->gitpython!=3.1.19,<4,>=3.0.7->streamlit>=0.75->streamlit_javascript) (5.0.1)\n",
      "Requirement already satisfied: MarkupSafe>=2.0 in /home/mn/.local/lib/python3.10/site-packages (from jinja2->altair<6,>=4.0->streamlit>=0.75->streamlit_javascript) (2.1.3)\n",
      "Requirement already satisfied: jsonschema-specifications>=2023.03.6 in /home/mn/.local/lib/python3.10/site-packages (from jsonschema>=3.0->altair<6,>=4.0->streamlit>=0.75->streamlit_javascript) (2023.7.1)\n",
      "Requirement already satisfied: attrs>=22.2.0 in /home/mn/.local/lib/python3.10/site-packages (from jsonschema>=3.0->altair<6,>=4.0->streamlit>=0.75->streamlit_javascript) (23.1.0)\n",
      "Requirement already satisfied: referencing>=0.28.4 in /home/mn/.local/lib/python3.10/site-packages (from jsonschema>=3.0->altair<6,>=4.0->streamlit>=0.75->streamlit_javascript) (0.30.2)\n",
      "Requirement already satisfied: rpds-py>=0.7.1 in /home/mn/.local/lib/python3.10/site-packages (from jsonschema>=3.0->altair<6,>=4.0->streamlit>=0.75->streamlit_javascript) (0.13.2)\n",
      "Requirement already satisfied: mdurl~=0.1 in /home/mn/.local/lib/python3.10/site-packages (from markdown-it-py>=2.2.0->rich<14,>=10.14.0->streamlit>=0.75->streamlit_javascript) (0.1.2)\n",
      "Installing collected packages: streamlit_javascript\n",
      "Successfully installed streamlit_javascript-0.1.5\n"
     ]
    }
   ],
   "source": [
    "!pip install streamlit_javascript\n"
   ]
  },
  {
   "cell_type": "code",
   "execution_count": 26,
   "id": "1cb5a037-2b44-403e-84c0-1257fa6fbcdf",
   "metadata": {},
   "outputs": [],
   "source": [
    "os.environ[\"OPENAI_API_KEY\"] = \"sk-\""
   ]
  },
  {
   "cell_type": "code",
   "execution_count": 27,
   "id": "e432dd18-2c9e-4634-97ba-6a6f81112d84",
   "metadata": {},
   "outputs": [],
   "source": [
    "from trulens_eval import Feedback, Select\n",
    "from trulens_eval.feedback import Groundedness\n",
    "from trulens_eval.feedback.provider.openai import OpenAI as fOpenAI\n",
    "\n",
    "import numpy as np\n",
    "import streamlit as st\n"
   ]
  },
  {
   "cell_type": "code",
   "execution_count": 28,
   "id": "916dacd3-ae54-400e-84df-83b84562d5be",
   "metadata": {},
   "outputs": [
    {
     "name": "stdout",
     "output_type": "stream",
     "text": [
      "✅ In Groundedness, input source will be set to __record__.app.retrieve.rets.collect() .\n",
      "✅ In Groundedness, input statement will be set to __record__.main_output or `Select.RecordOutput` .\n",
      "✅ In Answer Relevance, input prompt will be set to __record__.app.retrieve.args.query .\n",
      "✅ In Answer Relevance, input response will be set to __record__.main_output or `Select.RecordOutput` .\n",
      "✅ In Context Relevance, input question will be set to __record__.app.retrieve.args.query .\n",
      "✅ In Context Relevance, input statement will be set to __record__.app.retrieve.rets.collect() .\n"
     ]
    }
   ],
   "source": [
    "# Initialize provider class\n",
    "fopenai = fOpenAI()\n",
    "\n",
    "grounded = Groundedness(groundedness_provider=fopenai)\n",
    "\n",
    "# Define a groundedness feedback function\n",
    "f_groundedness = (\n",
    "    Feedback(grounded.groundedness_measure_with_cot_reasons, name = \"Groundedness\")\n",
    "    .on(Select.RecordCalls.retrieve.rets.collect())\n",
    "    .on_output()\n",
    "    .aggregate(grounded.grounded_statements_aggregator)\n",
    ")\n",
    "\n",
    "# Question/answer relevance between overall question and answer.\n",
    "f_qa_relevance = (\n",
    "    Feedback(fopenai.relevance_with_cot_reasons, name = \"Answer Relevance\")\n",
    "    .on(Select.RecordCalls.retrieve.args.query)\n",
    "    .on_output()\n",
    ")\n",
    "\n",
    "# Question/statement relevance between question and each context chunk.\n",
    "f_context_relevance = (\n",
    "    Feedback(fopenai.qs_relevance_with_cot_reasons, name = \"Context Relevance\")\n",
    "    .on(Select.RecordCalls.retrieve.args.query)\n",
    "    .on(Select.RecordCalls.retrieve.rets.collect())\n",
    "    .aggregate(np.mean)\n",
    ")"
   ]
  },
  {
   "cell_type": "code",
   "execution_count": 29,
   "id": "1f366354-7a18-4f8f-b28f-bb06154c847d",
   "metadata": {},
   "outputs": [],
   "source": [
    "from trulens_eval import TruCustomApp\n",
    "tru_rag = TruCustomApp(rag,\n",
    "    app_id = 'RAG v1',\n",
    "    feedbacks = [f_groundedness, f_qa_relevance, f_context_relevance])"
   ]
  },
  {
   "cell_type": "code",
   "execution_count": 30,
   "id": "c1375c3b-ba09-4a83-bee4-0ac6ce64143f",
   "metadata": {},
   "outputs": [],
   "source": [
    "with tru_rag as recording:\n",
    "    rag.query(\"What is the news about Pando\")"
   ]
  },
  {
   "cell_type": "code",
   "execution_count": 31,
   "id": "aa68d3fd-0378-4eb0-bb3f-7256bd380ac7",
   "metadata": {},
   "outputs": [
    {
     "data": {
      "text/html": [
       "<div>\n",
       "<style scoped>\n",
       "    .dataframe tbody tr th:only-of-type {\n",
       "        vertical-align: middle;\n",
       "    }\n",
       "\n",
       "    .dataframe tbody tr th {\n",
       "        vertical-align: top;\n",
       "    }\n",
       "\n",
       "    .dataframe thead th {\n",
       "        text-align: right;\n",
       "    }\n",
       "</style>\n",
       "<table border=\"1\" class=\"dataframe\">\n",
       "  <thead>\n",
       "    <tr style=\"text-align: right;\">\n",
       "      <th></th>\n",
       "      <th>Answer Relevance</th>\n",
       "      <th>Context Relevance</th>\n",
       "      <th>Groundedness</th>\n",
       "      <th>latency</th>\n",
       "      <th>total_cost</th>\n",
       "    </tr>\n",
       "    <tr>\n",
       "      <th>app_id</th>\n",
       "      <th></th>\n",
       "      <th></th>\n",
       "      <th></th>\n",
       "      <th></th>\n",
       "      <th></th>\n",
       "    </tr>\n",
       "  </thead>\n",
       "  <tbody>\n",
       "    <tr>\n",
       "      <th>RAG v1</th>\n",
       "      <td>1.0</td>\n",
       "      <td>0.8</td>\n",
       "      <td>0.48125</td>\n",
       "      <td>2.307692</td>\n",
       "      <td>0.0</td>\n",
       "    </tr>\n",
       "  </tbody>\n",
       "</table>\n",
       "</div>"
      ],
      "text/plain": [
       "        Answer Relevance  Context Relevance  Groundedness   latency  \\\n",
       "app_id                                                                \n",
       "RAG v1               1.0                0.8       0.48125  2.307692   \n",
       "\n",
       "        total_cost  \n",
       "app_id              \n",
       "RAG v1         0.0  "
      ]
     },
     "execution_count": 31,
     "metadata": {},
     "output_type": "execute_result"
    }
   ],
   "source": [
    "tru.get_leaderboard(app_ids=[\"RAG v1\"])"
   ]
  },
  {
   "cell_type": "code",
   "execution_count": 32,
   "id": "bc0536ca-3b47-4ae7-8e82-8a6cb8243872",
   "metadata": {
    "scrolled": true
   },
   "outputs": [
    {
     "name": "stdout",
     "output_type": "stream",
     "text": [
      "Starting dashboard ...\n",
      "Config file already exists. Skipping writing process.\n",
      "Credentials file already exists. Skipping writing process.\n",
      "Dashboard already running at path:   Network URL: http://192.168.1.10:8502\n",
      "\n"
     ]
    },
    {
     "data": {
      "text/plain": [
       "<Popen: returncode: None args: ['streamlit', 'run', '--server.headless=True'...>"
      ]
     },
     "execution_count": 32,
     "metadata": {},
     "output_type": "execute_result"
    }
   ],
   "source": [
    "tru.run_dashboard()"
   ]
  },
  {
   "cell_type": "code",
   "execution_count": null,
   "id": "535676b3-1a47-46c0-af2e-ac998c8ce598",
   "metadata": {},
   "outputs": [],
   "source": []
  }
 ],
 "metadata": {
  "kernelspec": {
   "display_name": "Python 3 (ipykernel)",
   "language": "python",
   "name": "python3"
  },
  "language_info": {
   "codemirror_mode": {
    "name": "ipython",
    "version": 3
   },
   "file_extension": ".py",
   "mimetype": "text/x-python",
   "name": "python",
   "nbconvert_exporter": "python",
   "pygments_lexer": "ipython3",
   "version": "3.9.9"
  }
 },
 "nbformat": 4,
 "nbformat_minor": 5
}
