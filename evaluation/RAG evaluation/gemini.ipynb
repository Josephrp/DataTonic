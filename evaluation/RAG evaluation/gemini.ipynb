{
 "cells": [
  {
   "cell_type": "code",
   "execution_count": 1,
   "id": "cdc9c60c-a3f7-42bc-a6e5-7d2535a95ea4",
   "metadata": {},
   "outputs": [
    {
     "name": "stdout",
     "output_type": "stream",
     "text": [
      "Requirement already satisfied: tensorflow==2.14 in /Users/jaspal/.pyenv/versions/3.9.9/lib/python3.9/site-packages (2.14.0)\n",
      "Requirement already satisfied: tensorflow-macos==2.14.0 in /Users/jaspal/.pyenv/versions/3.9.9/lib/python3.9/site-packages (from tensorflow==2.14) (2.14.0)\n",
      "Requirement already satisfied: absl-py>=1.0.0 in /Users/jaspal/.pyenv/versions/3.9.9/lib/python3.9/site-packages (from tensorflow-macos==2.14.0->tensorflow==2.14) (2.0.0)\n",
      "Requirement already satisfied: astunparse>=1.6.0 in /Users/jaspal/.pyenv/versions/3.9.9/lib/python3.9/site-packages (from tensorflow-macos==2.14.0->tensorflow==2.14) (1.6.3)\n",
      "Requirement already satisfied: flatbuffers>=23.5.26 in /Users/jaspal/.pyenv/versions/3.9.9/lib/python3.9/site-packages (from tensorflow-macos==2.14.0->tensorflow==2.14) (23.5.26)\n",
      "Requirement already satisfied: gast!=0.5.0,!=0.5.1,!=0.5.2,>=0.2.1 in /Users/jaspal/.pyenv/versions/3.9.9/lib/python3.9/site-packages (from tensorflow-macos==2.14.0->tensorflow==2.14) (0.5.4)\n",
      "Requirement already satisfied: google-pasta>=0.1.1 in /Users/jaspal/.pyenv/versions/3.9.9/lib/python3.9/site-packages (from tensorflow-macos==2.14.0->tensorflow==2.14) (0.2.0)\n",
      "Requirement already satisfied: h5py>=2.9.0 in /Users/jaspal/.pyenv/versions/3.9.9/lib/python3.9/site-packages (from tensorflow-macos==2.14.0->tensorflow==2.14) (3.10.0)\n",
      "Requirement already satisfied: libclang>=13.0.0 in /Users/jaspal/.pyenv/versions/3.9.9/lib/python3.9/site-packages (from tensorflow-macos==2.14.0->tensorflow==2.14) (16.0.6)\n",
      "Requirement already satisfied: ml-dtypes==0.2.0 in /Users/jaspal/.pyenv/versions/3.9.9/lib/python3.9/site-packages (from tensorflow-macos==2.14.0->tensorflow==2.14) (0.2.0)\n",
      "Requirement already satisfied: numpy>=1.23.5 in /Users/jaspal/.pyenv/versions/3.9.9/lib/python3.9/site-packages (from tensorflow-macos==2.14.0->tensorflow==2.14) (1.24.3)\n",
      "Requirement already satisfied: opt-einsum>=2.3.2 in /Users/jaspal/.pyenv/versions/3.9.9/lib/python3.9/site-packages (from tensorflow-macos==2.14.0->tensorflow==2.14) (3.3.0)\n",
      "Requirement already satisfied: packaging in /Users/jaspal/.pyenv/versions/3.9.9/lib/python3.9/site-packages (from tensorflow-macos==2.14.0->tensorflow==2.14) (23.2)\n",
      "Requirement already satisfied: protobuf!=4.21.0,!=4.21.1,!=4.21.2,!=4.21.3,!=4.21.4,!=4.21.5,<5.0.0dev,>=3.20.3 in /Users/jaspal/.pyenv/versions/3.9.9/lib/python3.9/site-packages (from tensorflow-macos==2.14.0->tensorflow==2.14) (4.25.1)\n",
      "Requirement already satisfied: setuptools in /Users/jaspal/.pyenv/versions/3.9.9/lib/python3.9/site-packages (from tensorflow-macos==2.14.0->tensorflow==2.14) (58.1.0)\n",
      "Requirement already satisfied: six>=1.12.0 in /Users/jaspal/.pyenv/versions/3.9.9/lib/python3.9/site-packages (from tensorflow-macos==2.14.0->tensorflow==2.14) (1.16.0)\n",
      "Requirement already satisfied: termcolor>=1.1.0 in /Users/jaspal/.pyenv/versions/3.9.9/lib/python3.9/site-packages (from tensorflow-macos==2.14.0->tensorflow==2.14) (2.4.0)\n",
      "Requirement already satisfied: typing-extensions>=3.6.6 in /Users/jaspal/.pyenv/versions/3.9.9/lib/python3.9/site-packages (from tensorflow-macos==2.14.0->tensorflow==2.14) (4.8.0)\n",
      "Requirement already satisfied: wrapt<1.15,>=1.11.0 in /Users/jaspal/.pyenv/versions/3.9.9/lib/python3.9/site-packages (from tensorflow-macos==2.14.0->tensorflow==2.14) (1.14.1)\n",
      "Requirement already satisfied: tensorflow-io-gcs-filesystem>=0.23.1 in /Users/jaspal/.pyenv/versions/3.9.9/lib/python3.9/site-packages (from tensorflow-macos==2.14.0->tensorflow==2.14) (0.34.0)\n",
      "Requirement already satisfied: grpcio<2.0,>=1.24.3 in /Users/jaspal/.pyenv/versions/3.9.9/lib/python3.9/site-packages (from tensorflow-macos==2.14.0->tensorflow==2.14) (1.60.0)\n",
      "Requirement already satisfied: tensorboard<2.15,>=2.14 in /Users/jaspal/.pyenv/versions/3.9.9/lib/python3.9/site-packages (from tensorflow-macos==2.14.0->tensorflow==2.14) (2.14.1)\n",
      "Requirement already satisfied: tensorflow-estimator<2.15,>=2.14.0 in /Users/jaspal/.pyenv/versions/3.9.9/lib/python3.9/site-packages (from tensorflow-macos==2.14.0->tensorflow==2.14) (2.14.0)\n",
      "Requirement already satisfied: keras<2.15,>=2.14.0 in /Users/jaspal/.pyenv/versions/3.9.9/lib/python3.9/site-packages (from tensorflow-macos==2.14.0->tensorflow==2.14) (2.14.0)\n",
      "Requirement already satisfied: wheel<1.0,>=0.23.0 in /Users/jaspal/.pyenv/versions/3.9.9/lib/python3.9/site-packages (from astunparse>=1.6.0->tensorflow-macos==2.14.0->tensorflow==2.14) (0.42.0)\n",
      "Requirement already satisfied: google-auth<3,>=1.6.3 in /Users/jaspal/.pyenv/versions/3.9.9/lib/python3.9/site-packages (from tensorboard<2.15,>=2.14->tensorflow-macos==2.14.0->tensorflow==2.14) (2.25.2)\n",
      "Requirement already satisfied: google-auth-oauthlib<1.1,>=0.5 in /Users/jaspal/.pyenv/versions/3.9.9/lib/python3.9/site-packages (from tensorboard<2.15,>=2.14->tensorflow-macos==2.14.0->tensorflow==2.14) (1.0.0)\n",
      "Requirement already satisfied: markdown>=2.6.8 in /Users/jaspal/.pyenv/versions/3.9.9/lib/python3.9/site-packages (from tensorboard<2.15,>=2.14->tensorflow-macos==2.14.0->tensorflow==2.14) (3.5.1)\n",
      "Requirement already satisfied: requests<3,>=2.21.0 in /Users/jaspal/.pyenv/versions/3.9.9/lib/python3.9/site-packages (from tensorboard<2.15,>=2.14->tensorflow-macos==2.14.0->tensorflow==2.14) (2.31.0)\n",
      "Requirement already satisfied: tensorboard-data-server<0.8.0,>=0.7.0 in /Users/jaspal/.pyenv/versions/3.9.9/lib/python3.9/site-packages (from tensorboard<2.15,>=2.14->tensorflow-macos==2.14.0->tensorflow==2.14) (0.7.2)\n",
      "Requirement already satisfied: werkzeug>=1.0.1 in /Users/jaspal/.pyenv/versions/3.9.9/lib/python3.9/site-packages (from tensorboard<2.15,>=2.14->tensorflow-macos==2.14.0->tensorflow==2.14) (3.0.1)\n",
      "Requirement already satisfied: cachetools<6.0,>=2.0.0 in /Users/jaspal/.pyenv/versions/3.9.9/lib/python3.9/site-packages (from google-auth<3,>=1.6.3->tensorboard<2.15,>=2.14->tensorflow-macos==2.14.0->tensorflow==2.14) (5.3.2)\n",
      "Requirement already satisfied: pyasn1-modules>=0.2.1 in /Users/jaspal/.pyenv/versions/3.9.9/lib/python3.9/site-packages (from google-auth<3,>=1.6.3->tensorboard<2.15,>=2.14->tensorflow-macos==2.14.0->tensorflow==2.14) (0.3.0)\n",
      "Requirement already satisfied: rsa<5,>=3.1.4 in /Users/jaspal/.pyenv/versions/3.9.9/lib/python3.9/site-packages (from google-auth<3,>=1.6.3->tensorboard<2.15,>=2.14->tensorflow-macos==2.14.0->tensorflow==2.14) (4.9)\n",
      "Requirement already satisfied: requests-oauthlib>=0.7.0 in /Users/jaspal/.pyenv/versions/3.9.9/lib/python3.9/site-packages (from google-auth-oauthlib<1.1,>=0.5->tensorboard<2.15,>=2.14->tensorflow-macos==2.14.0->tensorflow==2.14) (1.3.1)\n",
      "Requirement already satisfied: importlib-metadata>=4.4 in /Users/jaspal/.pyenv/versions/3.9.9/lib/python3.9/site-packages (from markdown>=2.6.8->tensorboard<2.15,>=2.14->tensorflow-macos==2.14.0->tensorflow==2.14) (6.11.0)\n",
      "Requirement already satisfied: charset-normalizer<4,>=2 in /Users/jaspal/.pyenv/versions/3.9.9/lib/python3.9/site-packages (from requests<3,>=2.21.0->tensorboard<2.15,>=2.14->tensorflow-macos==2.14.0->tensorflow==2.14) (3.3.2)\n",
      "Requirement already satisfied: idna<4,>=2.5 in /Users/jaspal/.pyenv/versions/3.9.9/lib/python3.9/site-packages (from requests<3,>=2.21.0->tensorboard<2.15,>=2.14->tensorflow-macos==2.14.0->tensorflow==2.14) (3.4)\n",
      "Requirement already satisfied: urllib3<3,>=1.21.1 in /Users/jaspal/.pyenv/versions/3.9.9/lib/python3.9/site-packages (from requests<3,>=2.21.0->tensorboard<2.15,>=2.14->tensorflow-macos==2.14.0->tensorflow==2.14) (1.26.18)\n",
      "Requirement already satisfied: certifi>=2017.4.17 in /Users/jaspal/.pyenv/versions/3.9.9/lib/python3.9/site-packages (from requests<3,>=2.21.0->tensorboard<2.15,>=2.14->tensorflow-macos==2.14.0->tensorflow==2.14) (2023.7.22)\n",
      "Requirement already satisfied: MarkupSafe>=2.1.1 in /Users/jaspal/.pyenv/versions/3.9.9/lib/python3.9/site-packages (from werkzeug>=1.0.1->tensorboard<2.15,>=2.14->tensorflow-macos==2.14.0->tensorflow==2.14) (2.1.3)\n",
      "Requirement already satisfied: zipp>=0.5 in /Users/jaspal/.pyenv/versions/3.9.9/lib/python3.9/site-packages (from importlib-metadata>=4.4->markdown>=2.6.8->tensorboard<2.15,>=2.14->tensorflow-macos==2.14.0->tensorflow==2.14) (3.17.0)\n",
      "Requirement already satisfied: pyasn1<0.6.0,>=0.4.6 in /Users/jaspal/.pyenv/versions/3.9.9/lib/python3.9/site-packages (from pyasn1-modules>=0.2.1->google-auth<3,>=1.6.3->tensorboard<2.15,>=2.14->tensorflow-macos==2.14.0->tensorflow==2.14) (0.5.1)\n",
      "Requirement already satisfied: oauthlib>=3.0.0 in /Users/jaspal/.pyenv/versions/3.9.9/lib/python3.9/site-packages (from requests-oauthlib>=0.7.0->google-auth-oauthlib<1.1,>=0.5->tensorboard<2.15,>=2.14->tensorflow-macos==2.14.0->tensorflow==2.14) (3.2.2)\n"
     ]
    }
   ],
   "source": [
    "!pip install tensorflow==2.14"
   ]
  },
  {
   "cell_type": "code",
   "execution_count": 2,
   "id": "e576c8b0-341c-4a20-8664-2576501223e9",
   "metadata": {},
   "outputs": [],
   "source": [
    "!pip install -q -U google-generativeai"
   ]
  },
  {
   "cell_type": "code",
   "execution_count": 3,
   "id": "5c8104c6-5d93-41f6-96b1-a3ee56fc7391",
   "metadata": {},
   "outputs": [
    {
     "name": "stdout",
     "output_type": "stream",
     "text": [
      "\u001b[31mERROR: pip's dependency resolver does not currently take into account all the packages that are installed. This behaviour is the source of the following dependency conflicts.\n",
      "langchain-experimental 0.0.47 requires langchain<0.1,>=0.0.350, but you have langchain 0.0.327 which is incompatible.\n",
      "trulens-eval 0.19.2 requires langchain>=0.0.335, but you have langchain 0.0.327 which is incompatible.\u001b[0m\u001b[31m\n",
      "\u001b[0m"
     ]
    }
   ],
   "source": [
    "!pip install -q google-cloud-aiplatform==1.36.0 google-cloud-discoveryengine==0.11.2 langchain==0.0.327 p"
   ]
  },
  {
   "cell_type": "code",
   "execution_count": null,
   "id": "e199c7a1-24e6-48bf-adc5-89e5f3ded921",
   "metadata": {},
   "outputs": [],
   "source": [
    "!pip -q install langchain_experimental langchain_core\n",
    "!pip -q install google-generativeai==0.3.1\n",
    "!pip -q install google-ai-generativelanguage==0.4.0\n",
    "!pip -q install langchain-google-genai\n",
    "!pip -q install trulens_eval\n",
    "!pip -q install google"
   ]
  },
  {
   "cell_type": "code",
   "execution_count": null,
   "id": "c3c26b01-c0f2-4595-899d-93acb90cfee2",
   "metadata": {},
   "outputs": [],
   "source": [
    "import os\n",
    "if not os.path.exists('new_articles'):\n",
    "    os.mkdir('new_articles')"
   ]
  },
  {
   "cell_type": "code",
   "execution_count": null,
   "id": "02708169-6c95-451e-8f26-8a4563ad610a",
   "metadata": {},
   "outputs": [],
   "source": [
    "# !wget -q https://www.dropbox.com/s/vs6ocyvpzzncvwh/new_articles.zip\n",
    "# !unzip -q new_articles.zip -d new_articles"
   ]
  },
  {
   "cell_type": "code",
   "execution_count": null,
   "id": "9eac97e7-c00e-43fc-9943-9cb9bbc71ef9",
   "metadata": {},
   "outputs": [],
   "source": [
    "import pathlib\n",
    "import textwrap\n",
    "import os\n",
    "import google.generativeai as genai\n",
    "import pathlib\n",
    "import textwrap\n",
    "from dotenv import load_dotenv\n",
    "import google.generativeai as genai\n",
    "from IPython.display import display\n",
    "from IPython.display import Markdown\n",
    "def to_markdown(text):\n",
    "  text = text.replace('•', '  *')\n",
    "  return Markdown(textwrap.indent(text, '> ', predicate=lambda _: True))"
   ]
  },
  {
   "cell_type": "code",
   "execution_count": null,
   "id": "fed69f02-08af-4d1b-b152-69d4c6efba69",
   "metadata": {},
   "outputs": [],
   "source": [
    "load_dotenv()\n",
    "GOOGLE_API_KEY= os.getenv(\"GOOGLE_API_KEY\")\n",
    "# GOOGLE_API_KEY=userdata.get('GOOGLE_API_KEY')\n",
    "genai.configure(api_key=GOOGLE_API_KEY)"
   ]
  },
  {
   "cell_type": "code",
   "execution_count": null,
   "id": "b2e8dd04-9a13-4ea2-bc11-5e013e93b0f1",
   "metadata": {},
   "outputs": [],
   "source": [
    "model = genai.GenerativeModel('gemini-pro')"
   ]
  },
  {
   "cell_type": "code",
   "execution_count": null,
   "id": "e88f9fe7-6c80-4f65-a1cc-9fc20c56a9f2",
   "metadata": {},
   "outputs": [],
   "source": [
    "%%time\n",
    "response=model.generate_content(\"What is the meaning of life?\")"
   ]
  },
  {
   "cell_type": "code",
   "execution_count": null,
   "id": "254b8ab7-7e2e-4ef4-a9b9-1a95b612a770",
   "metadata": {},
   "outputs": [],
   "source": [
    "to_markdown(response.text)\n",
    "print(response.text)"
   ]
  },
  {
   "cell_type": "markdown",
   "id": "149ae1d7-4039-46ba-82db-909ddfd56b30",
   "metadata": {},
   "source": [
    "### RAG(Lanchain+chroma+GeminiAI)"
   ]
  },
  {
   "cell_type": "code",
   "execution_count": null,
   "id": "13760d8e-86f6-4fc5-85e2-0eb3ba65025c",
   "metadata": {},
   "outputs": [],
   "source": [
    "from langchain_google_genai import ChatGoogleGenerativeAI\n",
    "from langchain_google_genai import GoogleGenerativeAIEmbeddings"
   ]
  },
  {
   "cell_type": "code",
   "execution_count": null,
   "id": "bc410479-26a8-494a-b244-7619714cfa05",
   "metadata": {},
   "outputs": [],
   "source": [
    "from langchain.document_loaders import TextLoader\n",
    "from langchain.vectorstores import Chroma\n",
    "from langchain.text_splitter import RecursiveCharacterTextSplitter\n",
    "# from langchain.chains import RetrievalQA\n",
    "from langchain.document_loaders import TextLoader\n",
    "from langchain.document_loaders import DirectoryLoader\n",
    "from langchain_google_genai import ChatGoogleGenerativeAI\n",
    "from langchain_google_genai import GoogleGenerativeAIEmbeddings\n",
    "from langchain.prompts import PromptTemplate\n",
    "\n",
    "# from langchain.schema.output_parser import StrOutputParser"
   ]
  },
  {
   "cell_type": "code",
   "execution_count": null,
   "id": "d3a9526d-8321-4683-b71e-2684cd15437f",
   "metadata": {},
   "outputs": [],
   "source": [
    "loader = DirectoryLoader('./new_articles/', glob=\"./*.txt\", loader_cls=TextLoader)\n",
    "documents = loader.load()"
   ]
  },
  {
   "cell_type": "code",
   "execution_count": null,
   "id": "3d565bdb-80fa-472f-aa90-14fbf02e83c6",
   "metadata": {},
   "outputs": [],
   "source": [
    "text_splitter = RecursiveCharacterTextSplitter(chunk_size=1000, chunk_overlap=200)\n",
    "texts = text_splitter.split_documents(documents)"
   ]
  },
  {
   "cell_type": "code",
   "execution_count": null,
   "id": "bd53ed72-9b59-4457-a041-71a77dde870b",
   "metadata": {},
   "outputs": [],
   "source": [
    "embeddings = GoogleGenerativeAIEmbeddings(model=\"models/embedding-001\")"
   ]
  },
  {
   "cell_type": "code",
   "execution_count": null,
   "id": "95933ee6-7217-4fa4-ad28-1c838ce2d942",
   "metadata": {},
   "outputs": [],
   "source": [
    "vectordb = Chroma.from_documents(documents=texts, \n",
    "                                 embedding=embeddings)"
   ]
  },
  {
   "cell_type": "markdown",
   "id": "3800ff9e-e54d-4357-a701-e79e1a6defdc",
   "metadata": {},
   "source": [
    "### RAG template class for True Lense"
   ]
  },
  {
   "cell_type": "code",
   "execution_count": null,
   "id": "11ecf55e-5fea-4aaa-98c3-d2665c8f89aa",
   "metadata": {},
   "outputs": [],
   "source": [
    "from trulens_eval import Tru\n",
    "from trulens_eval.tru_custom_app import instrument\n",
    "tru = Tru()"
   ]
  },
  {
   "cell_type": "code",
   "execution_count": null,
   "id": "1f370f4c-503c-4a26-8641-e2a28f8dbf5a",
   "metadata": {},
   "outputs": [],
   "source": [
    "class RAG_from_scratch:\n",
    "    @instrument\n",
    "    def retrieve(self, query: str) -> list:\n",
    "        \"\"\"\n",
    "        Retrieve relevant text from vector store.\n",
    "        \"\"\"\n",
    "        retriever = vectordb.as_retriever()\n",
    "        results = retriever.get_relevant_documents(query) \n",
    "        return results[0]  \n",
    "\n",
    "    \n",
    "    @instrument\n",
    "    def generate_completion(self, query:str, context_str: list) -> str:\n",
    "        \"\"\"\n",
    "        Generate answer from context.\n",
    "        \"\"\"\n",
    "        message = [{\n",
    "            \"role\": \"user\",\n",
    "            \"parts\": [\n",
    "                f\"We have provided context information below. \\n\"\n",
    "                f\"---------------------\\n\"\n",
    "                f\"{context_str}\"\n",
    "                f\"\\n---------------------\\n\"\n",
    "                f\"Given this information, please answer the question: {query}\"\n",
    "            ]\n",
    "        }]\n",
    "        model = genai.GenerativeModel('gemini-pro')\n",
    "        response = model.generate_content(message)\n",
    "        response_txt = response.text\n",
    "        return response_txt\n",
    "        \n",
    "\n",
    "    @instrument\n",
    "    def query(self, query:str ) -> str:\n",
    "        context_str = self.retrieve(query)\n",
    "        completion = self.generate_completion(query, context_str)\n",
    "        return completion\n",
    "    \n",
    "rag = RAG_from_scratch()\n"
   ]
  },
  {
   "cell_type": "code",
   "execution_count": null,
   "id": "b05660e7-2c0e-45c9-b761-f54a7e12404a",
   "metadata": {},
   "outputs": [],
   "source": [
    "# # Usage\n",
    "# rag_instance = RAG_from_scratch()\n",
    "# my_query = \"What is the news about Pando?\"\n",
    "# result = rag_instance.query(my_query)\n",
    "# print(result)\n",
    "\n"
   ]
  },
  {
   "cell_type": "code",
   "execution_count": null,
   "id": "dbe8f7e1-7fc3-4bdd-9551-964a6a4bf4d0",
   "metadata": {},
   "outputs": [],
   "source": [
    "#Evaluation using TrueLens\n"
   ]
  },
  {
   "cell_type": "code",
   "execution_count": null,
   "id": "0a9342d7-b0bb-40ca-a982-34810f83e812",
   "metadata": {},
   "outputs": [],
   "source": [
    "# !pip install trulens-eval"
   ]
  },
  {
   "cell_type": "code",
   "execution_count": null,
   "id": "f6e9794f-823b-4e07-9fe0-0257aa741b3e",
   "metadata": {},
   "outputs": [],
   "source": [
    "!pip install streamlit_javascript\n"
   ]
  },
  {
   "cell_type": "code",
   "execution_count": null,
   "id": "1cb5a037-2b44-403e-84c0-1257fa6fbcdf",
   "metadata": {},
   "outputs": [],
   "source": [
    "os.environ[\"OPENAI_API_KEY\"] = \"sk-\""
   ]
  },
  {
   "cell_type": "code",
   "execution_count": null,
   "id": "e432dd18-2c9e-4634-97ba-6a6f81112d84",
   "metadata": {},
   "outputs": [],
   "source": [
    "from trulens_eval import Feedback, Select\n",
    "from trulens_eval.feedback import Groundedness\n",
    "from trulens_eval.feedback.provider.openai import OpenAI as fOpenAI\n",
    "\n",
    "import numpy as np\n",
    "import streamlit as st\n"
   ]
  },
  {
   "cell_type": "code",
   "execution_count": null,
   "id": "916dacd3-ae54-400e-84df-83b84562d5be",
   "metadata": {},
   "outputs": [],
   "source": [
    "# Initialize provider class\n",
    "fopenai = fOpenAI()\n",
    "\n",
    "grounded = Groundedness(groundedness_provider=fopenai)\n",
    "\n",
    "# Define a groundedness feedback function\n",
    "f_groundedness = (\n",
    "    Feedback(grounded.groundedness_measure_with_cot_reasons, name = \"Groundedness\")\n",
    "    .on(Select.RecordCalls.retrieve.rets.collect())\n",
    "    .on_output()\n",
    "    .aggregate(grounded.grounded_statements_aggregator)\n",
    ")\n",
    "\n",
    "# Question/answer relevance between overall question and answer.\n",
    "f_qa_relevance = (\n",
    "    Feedback(fopenai.relevance_with_cot_reasons, name = \"Answer Relevance\")\n",
    "    .on(Select.RecordCalls.retrieve.args.query)\n",
    "    .on_output()\n",
    ")\n",
    "\n",
    "# Question/statement relevance between question and each context chunk.\n",
    "f_context_relevance = (\n",
    "    Feedback(fopenai.qs_relevance_with_cot_reasons, name = \"Context Relevance\")\n",
    "    .on(Select.RecordCalls.retrieve.args.query)\n",
    "    .on(Select.RecordCalls.retrieve.rets.collect())\n",
    "    .aggregate(np.mean)\n",
    ")"
   ]
  },
  {
   "cell_type": "code",
   "execution_count": null,
   "id": "1f366354-7a18-4f8f-b28f-bb06154c847d",
   "metadata": {},
   "outputs": [],
   "source": [
    "from trulens_eval import TruCustomApp\n",
    "tru_rag = TruCustomApp(rag,\n",
    "    app_id = 'RAG v1',\n",
    "    feedbacks = [f_groundedness, f_qa_relevance, f_context_relevance])"
   ]
  },
  {
   "cell_type": "code",
   "execution_count": null,
   "id": "c1375c3b-ba09-4a83-bee4-0ac6ce64143f",
   "metadata": {},
   "outputs": [],
   "source": [
    "with tru_rag as recording:\n",
    "    rag.query(\"What is the news about Pando\")"
   ]
  },
  {
   "cell_type": "code",
   "execution_count": null,
   "id": "aa68d3fd-0378-4eb0-bb3f-7256bd380ac7",
   "metadata": {},
   "outputs": [],
   "source": [
    "tru.get_leaderboard(app_ids=[\"RAG v1\"])"
   ]
  },
  {
   "cell_type": "code",
   "execution_count": null,
   "id": "bc0536ca-3b47-4ae7-8e82-8a6cb8243872",
   "metadata": {
    "scrolled": true
   },
   "outputs": [],
   "source": [
    "tru.run_dashboard()"
   ]
  },
  {
   "cell_type": "code",
   "execution_count": null,
   "id": "535676b3-1a47-46c0-af2e-ac998c8ce598",
   "metadata": {},
   "outputs": [],
   "source": []
  }
 ],
 "metadata": {
  "kernelspec": {
   "display_name": "Python 3 (ipykernel)",
   "language": "python",
   "name": "python3"
  },
  "language_info": {
   "codemirror_mode": {
    "name": "ipython",
    "version": 3
   },
   "file_extension": ".py",
   "mimetype": "text/x-python",
   "name": "python",
   "nbconvert_exporter": "python",
   "pygments_lexer": "ipython3",
   "version": "3.11.5"
  }
 },
 "nbformat": 4,
 "nbformat_minor": 5
}
