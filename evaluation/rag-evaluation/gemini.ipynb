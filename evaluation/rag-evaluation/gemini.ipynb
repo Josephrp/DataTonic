{
 "cells": [
  {
   "cell_type": "code",
   "execution_count": null,
   "id": "e576c8b0-341c-4a20-8664-2576501223e9",
   "metadata": {},
   "outputs": [],
   "source": [
    "!pip install -q -U google-generativeai"
   ]
  },
  {
   "cell_type": "code",
   "execution_count": 111,
   "id": "5c8104c6-5d93-41f6-96b1-a3ee56fc7391",
   "metadata": {},
   "outputs": [
    {
     "name": "stdout",
     "output_type": "stream",
     "text": [
      "\u001b[31mERROR: pip's dependency resolver does not currently take into account all the packages that are installed. This behaviour is the source of the following dependency conflicts.\n",
      "langchain-experimental 0.0.47 requires langchain<0.1,>=0.0.350, but you have langchain 0.0.327 which is incompatible.\u001b[0m\u001b[31m\n",
      "\u001b[0m"
     ]
    }
   ],
   "source": [
    "\n",
    "!pip install -q google-cloud-aiplatform==1.36.0 google-cloud-discoveryengine==0.11.2 langchain==0.0.327 p"
   ]
  },
  {
   "cell_type": "code",
   "execution_count": null,
   "id": "e199c7a1-24e6-48bf-adc5-89e5f3ded921",
   "metadata": {},
   "outputs": [],
   "source": [
    "!pip -q install langchain_experimental langchain_core\n",
    "!pip -q install google-generativeai==0.3.1\n",
    "!pip -q install google-ai-generativelanguage==0.4.0\n",
    "!pip -q install langchain-google-genai\n"
   ]
  },
  {
   "cell_type": "code",
   "execution_count": 1,
   "id": "02708169-6c95-451e-8f26-8a4563ad610a",
   "metadata": {},
   "outputs": [],
   "source": [
    "!wget -q https://www.dropbox.com/s/vs6ocyvpzzncvwh/new_articles.zip\n",
    "!unzip -q new_articles.zip -d new_articles"
   ]
  },
  {
   "cell_type": "code",
   "execution_count": 1,
   "id": "9eac97e7-c00e-43fc-9943-9cb9bbc71ef9",
   "metadata": {},
   "outputs": [],
   "source": [
    "import pathlib\n",
    "import textwrap\n",
    "import os\n",
    "import google.generativeai as genai\n",
    "import pathlib\n",
    "import textwrap\n",
    "from dotenv import load_dotenv\n",
    "import google.generativeai as genai\n",
    "from IPython.display import display\n",
    "from IPython.display import Markdown\n",
    "def to_markdown(text):\n",
    "  text = text.replace('•', '  *')\n",
    "  return Markdown(textwrap.indent(text, '> ', predicate=lambda _: True))"
   ]
  },
  {
   "cell_type": "code",
   "execution_count": 2,
   "id": "fed69f02-08af-4d1b-b152-69d4c6efba69",
   "metadata": {},
   "outputs": [],
   "source": [
    "load_dotenv()\n",
    "GOOGLE_API_KEY= os.getenv(\"GOOGLE_API_KEY\")\n",
    "# GOOGLE_API_KEY=userdata.get('GOOGLE_API_KEY')\n",
    "genai.configure(api_key=GOOGLE_API_KEY)"
   ]
  },
  {
   "cell_type": "code",
   "execution_count": 3,
   "id": "b2e8dd04-9a13-4ea2-bc11-5e013e93b0f1",
   "metadata": {},
   "outputs": [],
   "source": [
    "model = genai.GenerativeModel('gemini-pro')"
   ]
  },
  {
   "cell_type": "code",
   "execution_count": 27,
   "id": "e88f9fe7-6c80-4f65-a1cc-9fc20c56a9f2",
   "metadata": {},
   "outputs": [],
   "source": [
    "# %%time\n",
    "# responce=model.generate_content(\"What is the meaning of life?\")"
   ]
  },
  {
   "cell_type": "code",
   "execution_count": 28,
   "id": "254b8ab7-7e2e-4ef4-a9b9-1a95b612a770",
   "metadata": {},
   "outputs": [
    {
     "name": "stdout",
     "output_type": "stream",
     "text": [
      "The meaning of life is a topic that has been contemplated by philosophers, theologians, and ordinary people for centuries. There is no one definitive answer that is universally accepted, as it is a highly personal and subjective matter. However, here are some common perspectives on the meaning of life:\n",
      "\n",
      "1. **Purposeful Engagement**: Many people find meaning in life through purposeful engagement in activities that they find fulfilling and rewarding. This could involve pursuing a career or hobby that aligns with their interests and values, engaging in creative endeavors, or contributing to society through volunteer work or other forms of service.\n",
      "\n",
      "2. **Relationships and Connections**: For many people, strong relationships and meaningful connections with others are central to finding meaning in life. This can include spending time with loved ones, building close friendships, and forming supportive and enriching relationships with colleagues, neighbors, and community members.\n",
      "\n",
      "3. **Personal Growth and Development**: Some individuals find meaning in life through personal growth and development. This can involve setting goals for self-improvement, learning new skills, exploring different perspectives, or embarking on a journey of self-discovery and transformation.\n",
      "\n",
      "4. **Contribution and Impact**: Many people find meaning in life through making a positive impact on the world around them. This could involve working towards social or environmental causes, helping others in need, or simply striving to make a difference in the lives of those they encounter.\n",
      "\n",
      "5. **Alignment with Values and Beliefs**: For some, finding meaning in life involves living in alignment with their core values and beliefs. This can involve making choices and taking actions that are consistent with their moral compass, pursuing goals that reflect their deepest values, and striving to live a life of integrity and authenticity.\n",
      "\n",
      "6. **Experiencing Joy and Fulfillment**: For many people, simply experiencing joy, fulfillment, and happiness in life is what gives it meaning. This could involve engaging in activities that bring them pleasure, pursuing hobbies and interests that they are passionate about, or simply savoring the simple moments of life.\n",
      "\n",
      "7. **Spiritual or Religious Beliefs**: For some individuals, finding meaning in life is closely tied to their spiritual or religious beliefs. This could involve following religious practices, connecting with a higher power, or exploring spiritual teachings and philosophies.\n",
      "\n",
      "8. **Unique and Personal Journey**: Ultimately, the meaning of life is a unique and personal journey that each individual must discover for themselves. There is no right or wrong answer, and what gives one person meaning may not resonate with another. The key is to engage in self-reflection, explore different perspectives, and ultimately find what truly resonates with your own values, beliefs, and aspirations.\n"
     ]
    }
   ],
   "source": [
    "# to_markdown(response.text)\n",
    "# print(responce.text)"
   ]
  },
  {
   "cell_type": "markdown",
   "id": "149ae1d7-4039-46ba-82db-909ddfd56b30",
   "metadata": {},
   "source": [
    "RAG(Lanchain+chroma+GeminiAI)"
   ]
  },
  {
   "cell_type": "code",
   "execution_count": 4,
   "id": "13760d8e-86f6-4fc5-85e2-0eb3ba65025c",
   "metadata": {},
   "outputs": [],
   "source": [
    "from langchain_google_genai import ChatGoogleGenerativeAI\n",
    "from langchain_google_genai import GoogleGenerativeAIEmbeddings"
   ]
  },
  {
   "cell_type": "code",
   "execution_count": 19,
   "id": "bc410479-26a8-494a-b244-7619714cfa05",
   "metadata": {},
   "outputs": [],
   "source": [
    "from langchain.document_loaders import TextLoader\n",
    "from langchain.vectorstores import Chroma\n",
    "from langchain.text_splitter import RecursiveCharacterTextSplitter\n",
    "# from langchain.chains import RetrievalQA\n",
    "from langchain.document_loaders import TextLoader\n",
    "from langchain.document_loaders import DirectoryLoader\n",
    "from langchain_google_genai import ChatGoogleGenerativeAI\n",
    "from langchain_google_genai import GoogleGenerativeAIEmbeddings\n",
    "from langchain.prompts import PromptTemplate\n",
    "\n",
    "# from langchain.schema.output_parser import StrOutputParser"
   ]
  },
  {
   "cell_type": "code",
   "execution_count": 6,
   "id": "d3a9526d-8321-4683-b71e-2684cd15437f",
   "metadata": {},
   "outputs": [],
   "source": [
    "loader = DirectoryLoader('./new_articles/', glob=\"./*.txt\", loader_cls=TextLoader)\n",
    "documents = loader.load()"
   ]
  },
  {
   "cell_type": "code",
   "execution_count": 7,
   "id": "3d565bdb-80fa-472f-aa90-14fbf02e83c6",
   "metadata": {},
   "outputs": [],
   "source": [
    "text_splitter = RecursiveCharacterTextSplitter(chunk_size=1000, chunk_overlap=200)\n",
    "texts = text_splitter.split_documents(documents)"
   ]
  },
  {
   "cell_type": "code",
   "execution_count": 8,
   "id": "bd53ed72-9b59-4457-a041-71a77dde870b",
   "metadata": {},
   "outputs": [],
   "source": [
    "embeddings = GoogleGenerativeAIEmbeddings(model=\"models/embedding-001\")"
   ]
  },
  {
   "cell_type": "code",
   "execution_count": 9,
   "id": "95933ee6-7217-4fa4-ad28-1c838ce2d942",
   "metadata": {},
   "outputs": [],
   "source": [
    "vectordb = Chroma.from_documents(documents=texts, \n",
    "                                 embedding=embeddings)"
   ]
  },
  {
   "cell_type": "markdown",
   "id": "3800ff9e-e54d-4357-a701-e79e1a6defdc",
   "metadata": {},
   "source": [
    "#RAG template class for TRue Lense"
   ]
  },
  {
   "cell_type": "code",
   "execution_count": 10,
   "id": "11ecf55e-5fea-4aaa-98c3-d2665c8f89aa",
   "metadata": {},
   "outputs": [
    {
     "name": "stdout",
     "output_type": "stream",
     "text": [
      "🦑 Tru initialized with db url sqlite:///default.sqlite .\n",
      "🛑 Secret keys may be written to the database. See the `database_redact_keys` option of `Tru` to prevent this.\n"
     ]
    }
   ],
   "source": [
    "from trulens_eval import Tru\n",
    "from trulens_eval.tru_custom_app import instrument\n",
    "tru = Tru()"
   ]
  },
  {
   "cell_type": "code",
   "execution_count": 11,
   "id": "1f370f4c-503c-4a26-8641-e2a28f8dbf5a",
   "metadata": {},
   "outputs": [],
   "source": [
    "class RAG_from_scratch:\n",
    "    @instrument\n",
    "    def retrieve(self, query: str) -> list:\n",
    "        \"\"\"\n",
    "        Retrieve relevant text from vector store.\n",
    "        \"\"\"\n",
    "        retriever = vectordb.as_retriever()\n",
    "        results = retriever.get_relevant_documents(query) \n",
    "        return results[0]  \n",
    "\n",
    "    \n",
    "    @instrument\n",
    "    def generate_completion(self, query:str, context_str: list) -> str:\n",
    "        \"\"\"\n",
    "        Generate answer from context.\n",
    "        \"\"\"\n",
    "        message = [{\n",
    "            \"role\": \"user\",\n",
    "            \"parts\": [\n",
    "                f\"We have provided context information below. \\n\"\n",
    "                f\"---------------------\\n\"\n",
    "                f\"{context_str}\"\n",
    "                f\"\\n---------------------\\n\"\n",
    "                f\"Given this information, please answer the question: {query}\"\n",
    "            ]\n",
    "        }]\n",
    "        model = genai.GenerativeModel('gemini-pro')\n",
    "        response = model.generate_content(message)\n",
    "        response_txt = response.text\n",
    "        return response_txt\n",
    "        \n",
    "\n",
    "    @instrument\n",
    "    def query(self, query:str ) -> str:\n",
    "        context_str = self.retrieve(query)\n",
    "        completion = self.generate_completion(query, context_str)\n",
    "        return completion\n",
    "    \n",
    "rag = RAG_from_scratch()\n"
   ]
  },
  {
   "cell_type": "code",
   "execution_count": 38,
   "id": "b05660e7-2c0e-45c9-b761-f54a7e12404a",
   "metadata": {},
   "outputs": [],
   "source": [
    "# # Usage\n",
    "# rag_instance = RAG_from_scratch()\n",
    "# my_query = \"What is the news about Pando?\"\n",
    "# result = rag_instance.query(my_query)\n",
    "# print(result)\n",
    "\n"
   ]
  },
  {
   "cell_type": "code",
   "execution_count": 39,
   "id": "dbe8f7e1-7fc3-4bdd-9551-964a6a4bf4d0",
   "metadata": {},
   "outputs": [],
   "source": [
    "#Evaluation using TrueLens\n"
   ]
  },
  {
   "cell_type": "code",
   "execution_count": 24,
   "id": "0a9342d7-b0bb-40ca-a982-34810f83e812",
   "metadata": {},
   "outputs": [],
   "source": [
    "# !pip install trulens-eval"
   ]
  },
  {
   "cell_type": "code",
   "execution_count": 25,
   "id": "f6e9794f-823b-4e07-9fe0-0257aa741b3e",
   "metadata": {},
   "outputs": [
    {
     "name": "stdout",
     "output_type": "stream",
     "text": [
      "Defaulting to user installation because normal site-packages is not writeable\n",
      "Collecting streamlit_javascript\n",
      "  Using cached streamlit_javascript-0.1.5-py3-none-any.whl (518 kB)\n",
      "Requirement already satisfied: streamlit>=0.75 in /home/mn/.local/lib/python3.10/site-packages (from streamlit_javascript) (1.29.0)\n",
      "Requirement already satisfied: packaging<24,>=16.8 in /home/mn/.local/lib/python3.10/site-packages (from streamlit>=0.75->streamlit_javascript) (23.2)\n",
      "Requirement already satisfied: pydeck<1,>=0.8.0b4 in /home/mn/.local/lib/python3.10/site-packages (from streamlit>=0.75->streamlit_javascript) (0.8.1b0)\n",
      "Requirement already satisfied: blinker<2,>=1.0.0 in /home/mn/.local/lib/python3.10/site-packages (from streamlit>=0.75->streamlit_javascript) (1.6.2)\n",
      "Requirement already satisfied: gitpython!=3.1.19,<4,>=3.0.7 in /home/mn/.local/lib/python3.10/site-packages (from streamlit>=0.75->streamlit_javascript) (3.1.40)\n",
      "Requirement already satisfied: pillow<11,>=7.1.0 in /usr/lib/python3/dist-packages (from streamlit>=0.75->streamlit_javascript) (9.0.1)\n",
      "Requirement already satisfied: altair<6,>=4.0 in /home/mn/.local/lib/python3.10/site-packages (from streamlit>=0.75->streamlit_javascript) (5.2.0)\n",
      "Requirement already satisfied: protobuf<5,>=3.20 in /home/mn/.local/lib/python3.10/site-packages (from streamlit>=0.75->streamlit_javascript) (4.25.1)\n",
      "Requirement already satisfied: pyarrow>=6.0 in /home/mn/.local/lib/python3.10/site-packages (from streamlit>=0.75->streamlit_javascript) (14.0.1)\n",
      "Requirement already satisfied: click<9,>=7.0 in /home/mn/.local/lib/python3.10/site-packages (from streamlit>=0.75->streamlit_javascript) (7.1.2)\n",
      "Requirement already satisfied: toml<2,>=0.10.1 in /home/mn/.local/lib/python3.10/site-packages (from streamlit>=0.75->streamlit_javascript) (0.10.2)\n",
      "Requirement already satisfied: importlib-metadata<7,>=1.4 in /home/mn/.local/lib/python3.10/site-packages (from streamlit>=0.75->streamlit_javascript) (6.8.0)\n",
      "Requirement already satisfied: tzlocal<6,>=1.1 in /home/mn/.local/lib/python3.10/site-packages (from streamlit>=0.75->streamlit_javascript) (5.2)\n",
      "Requirement already satisfied: tornado<7,>=6.0.3 in /usr/local/lib/python3.10/dist-packages (from streamlit>=0.75->streamlit_javascript) (6.4)\n",
      "Requirement already satisfied: python-dateutil<3,>=2.7.3 in /home/mn/.local/lib/python3.10/site-packages (from streamlit>=0.75->streamlit_javascript) (2.8.2)\n",
      "Requirement already satisfied: tenacity<9,>=8.1.0 in /home/mn/.local/lib/python3.10/site-packages (from streamlit>=0.75->streamlit_javascript) (8.2.3)\n",
      "Requirement already satisfied: rich<14,>=10.14.0 in /home/mn/.local/lib/python3.10/site-packages (from streamlit>=0.75->streamlit_javascript) (13.7.0)\n",
      "Requirement already satisfied: validators<1,>=0.2 in /home/mn/.local/lib/python3.10/site-packages (from streamlit>=0.75->streamlit_javascript) (0.22.0)\n",
      "Requirement already satisfied: pandas<3,>=1.3.0 in /home/mn/.local/lib/python3.10/site-packages (from streamlit>=0.75->streamlit_javascript) (2.1.4)\n",
      "Requirement already satisfied: watchdog>=2.1.5 in /home/mn/.local/lib/python3.10/site-packages (from streamlit>=0.75->streamlit_javascript) (3.0.0)\n",
      "Requirement already satisfied: typing-extensions<5,>=4.3.0 in /home/mn/.local/lib/python3.10/site-packages (from streamlit>=0.75->streamlit_javascript) (4.8.0)\n",
      "Requirement already satisfied: numpy<2,>=1.19.3 in /home/mn/.local/lib/python3.10/site-packages (from streamlit>=0.75->streamlit_javascript) (1.26.2)\n",
      "Requirement already satisfied: requests<3,>=2.27 in /home/mn/.local/lib/python3.10/site-packages (from streamlit>=0.75->streamlit_javascript) (2.31.0)\n",
      "Requirement already satisfied: cachetools<6,>=4.0 in /home/mn/.local/lib/python3.10/site-packages (from streamlit>=0.75->streamlit_javascript) (5.3.2)\n",
      "Requirement already satisfied: toolz in /home/mn/.local/lib/python3.10/site-packages (from altair<6,>=4.0->streamlit>=0.75->streamlit_javascript) (0.12.0)\n",
      "Requirement already satisfied: jsonschema>=3.0 in /home/mn/.local/lib/python3.10/site-packages (from altair<6,>=4.0->streamlit>=0.75->streamlit_javascript) (4.20.0)\n",
      "Requirement already satisfied: jinja2 in /home/mn/.local/lib/python3.10/site-packages (from altair<6,>=4.0->streamlit>=0.75->streamlit_javascript) (3.1.2)\n",
      "Requirement already satisfied: gitdb<5,>=4.0.1 in /home/mn/.local/lib/python3.10/site-packages (from gitpython!=3.1.19,<4,>=3.0.7->streamlit>=0.75->streamlit_javascript) (4.0.11)\n",
      "Requirement already satisfied: zipp>=0.5 in /usr/lib/python3/dist-packages (from importlib-metadata<7,>=1.4->streamlit>=0.75->streamlit_javascript) (1.0.0)\n",
      "Requirement already satisfied: tzdata>=2022.1 in /home/mn/.local/lib/python3.10/site-packages (from pandas<3,>=1.3.0->streamlit>=0.75->streamlit_javascript) (2023.3)\n",
      "Requirement already satisfied: pytz>=2020.1 in /usr/lib/python3/dist-packages (from pandas<3,>=1.3.0->streamlit>=0.75->streamlit_javascript) (2022.1)\n",
      "Requirement already satisfied: six>=1.5 in /usr/lib/python3/dist-packages (from python-dateutil<3,>=2.7.3->streamlit>=0.75->streamlit_javascript) (1.16.0)\n",
      "Requirement already satisfied: certifi>=2017.4.17 in /usr/lib/python3/dist-packages (from requests<3,>=2.27->streamlit>=0.75->streamlit_javascript) (2020.6.20)\n",
      "Requirement already satisfied: urllib3<3,>=1.21.1 in /home/mn/.local/lib/python3.10/site-packages (from requests<3,>=2.27->streamlit>=0.75->streamlit_javascript) (1.26.18)\n",
      "Requirement already satisfied: idna<4,>=2.5 in /usr/lib/python3/dist-packages (from requests<3,>=2.27->streamlit>=0.75->streamlit_javascript) (3.3)\n",
      "Requirement already satisfied: charset-normalizer<4,>=2 in /home/mn/.local/lib/python3.10/site-packages (from requests<3,>=2.27->streamlit>=0.75->streamlit_javascript) (3.2.0)\n",
      "Requirement already satisfied: pygments<3.0.0,>=2.13.0 in /home/mn/.local/lib/python3.10/site-packages (from rich<14,>=10.14.0->streamlit>=0.75->streamlit_javascript) (2.17.2)\n",
      "Requirement already satisfied: markdown-it-py>=2.2.0 in /home/mn/.local/lib/python3.10/site-packages (from rich<14,>=10.14.0->streamlit>=0.75->streamlit_javascript) (3.0.0)\n",
      "Requirement already satisfied: smmap<6,>=3.0.1 in /home/mn/.local/lib/python3.10/site-packages (from gitdb<5,>=4.0.1->gitpython!=3.1.19,<4,>=3.0.7->streamlit>=0.75->streamlit_javascript) (5.0.1)\n",
      "Requirement already satisfied: MarkupSafe>=2.0 in /home/mn/.local/lib/python3.10/site-packages (from jinja2->altair<6,>=4.0->streamlit>=0.75->streamlit_javascript) (2.1.3)\n",
      "Requirement already satisfied: jsonschema-specifications>=2023.03.6 in /home/mn/.local/lib/python3.10/site-packages (from jsonschema>=3.0->altair<6,>=4.0->streamlit>=0.75->streamlit_javascript) (2023.7.1)\n",
      "Requirement already satisfied: attrs>=22.2.0 in /home/mn/.local/lib/python3.10/site-packages (from jsonschema>=3.0->altair<6,>=4.0->streamlit>=0.75->streamlit_javascript) (23.1.0)\n",
      "Requirement already satisfied: referencing>=0.28.4 in /home/mn/.local/lib/python3.10/site-packages (from jsonschema>=3.0->altair<6,>=4.0->streamlit>=0.75->streamlit_javascript) (0.30.2)\n",
      "Requirement already satisfied: rpds-py>=0.7.1 in /home/mn/.local/lib/python3.10/site-packages (from jsonschema>=3.0->altair<6,>=4.0->streamlit>=0.75->streamlit_javascript) (0.13.2)\n",
      "Requirement already satisfied: mdurl~=0.1 in /home/mn/.local/lib/python3.10/site-packages (from markdown-it-py>=2.2.0->rich<14,>=10.14.0->streamlit>=0.75->streamlit_javascript) (0.1.2)\n",
      "Installing collected packages: streamlit_javascript\n",
      "Successfully installed streamlit_javascript-0.1.5\n"
     ]
    }
   ],
   "source": [
    "!pip install streamlit_javascript\n"
   ]
  },
  {
   "cell_type": "code",
   "execution_count": 26,
   "id": "1cb5a037-2b44-403e-84c0-1257fa6fbcdf",
   "metadata": {},
   "outputs": [],
   "source": [
    "os.environ[\"OPENAI_API_KEY\"] = \"sk-\""
   ]
  },
  {
   "cell_type": "code",
   "execution_count": 27,
   "id": "e432dd18-2c9e-4634-97ba-6a6f81112d84",
   "metadata": {},
   "outputs": [],
   "source": [
    "from trulens_eval import Feedback, Select\n",
    "from trulens_eval.feedback import Groundedness\n",
    "from trulens_eval.feedback.provider.openai import OpenAI as fOpenAI\n",
    "\n",
    "import numpy as np\n",
    "import streamlit as st\n"
   ]
  },
  {
   "cell_type": "code",
   "execution_count": 28,
   "id": "916dacd3-ae54-400e-84df-83b84562d5be",
   "metadata": {},
   "outputs": [
    {
     "name": "stdout",
     "output_type": "stream",
     "text": [
      "✅ In Groundedness, input source will be set to __record__.app.retrieve.rets.collect() .\n",
      "✅ In Groundedness, input statement will be set to __record__.main_output or `Select.RecordOutput` .\n",
      "✅ In Answer Relevance, input prompt will be set to __record__.app.retrieve.args.query .\n",
      "✅ In Answer Relevance, input response will be set to __record__.main_output or `Select.RecordOutput` .\n",
      "✅ In Context Relevance, input question will be set to __record__.app.retrieve.args.query .\n",
      "✅ In Context Relevance, input statement will be set to __record__.app.retrieve.rets.collect() .\n"
     ]
    }
   ],
   "source": [
    "# Initialize provider class\n",
    "fopenai = fOpenAI()\n",
    "\n",
    "grounded = Groundedness(groundedness_provider=fopenai)\n",
    "\n",
    "# Define a groundedness feedback function\n",
    "f_groundedness = (\n",
    "    Feedback(grounded.groundedness_measure_with_cot_reasons, name = \"Groundedness\")\n",
    "    .on(Select.RecordCalls.retrieve.rets.collect())\n",
    "    .on_output()\n",
    "    .aggregate(grounded.grounded_statements_aggregator)\n",
    ")\n",
    "\n",
    "# Question/answer relevance between overall question and answer.\n",
    "f_qa_relevance = (\n",
    "    Feedback(fopenai.relevance_with_cot_reasons, name = \"Answer Relevance\")\n",
    "    .on(Select.RecordCalls.retrieve.args.query)\n",
    "    .on_output()\n",
    ")\n",
    "\n",
    "# Question/statement relevance between question and each context chunk.\n",
    "f_context_relevance = (\n",
    "    Feedback(fopenai.qs_relevance_with_cot_reasons, name = \"Context Relevance\")\n",
    "    .on(Select.RecordCalls.retrieve.args.query)\n",
    "    .on(Select.RecordCalls.retrieve.rets.collect())\n",
    "    .aggregate(np.mean)\n",
    ")"
   ]
  },
  {
   "cell_type": "code",
   "execution_count": 29,
   "id": "1f366354-7a18-4f8f-b28f-bb06154c847d",
   "metadata": {},
   "outputs": [],
   "source": [
    "from trulens_eval import TruCustomApp\n",
    "tru_rag = TruCustomApp(rag,\n",
    "    app_id = 'RAG v1',\n",
    "    feedbacks = [f_groundedness, f_qa_relevance, f_context_relevance])"
   ]
  },
  {
   "cell_type": "code",
   "execution_count": 30,
   "id": "c1375c3b-ba09-4a83-bee4-0ac6ce64143f",
   "metadata": {},
   "outputs": [],
   "source": [
    "with tru_rag as recording:\n",
    "    rag.query(\"What is the news about Pando\")"
   ]
  },
  {
   "cell_type": "code",
   "execution_count": 31,
   "id": "aa68d3fd-0378-4eb0-bb3f-7256bd380ac7",
   "metadata": {},
   "outputs": [
    {
     "data": {
      "text/html": [
       "<div>\n",
       "<style scoped>\n",
       "    .dataframe tbody tr th:only-of-type {\n",
       "        vertical-align: middle;\n",
       "    }\n",
       "\n",
       "    .dataframe tbody tr th {\n",
       "        vertical-align: top;\n",
       "    }\n",
       "\n",
       "    .dataframe thead th {\n",
       "        text-align: right;\n",
       "    }\n",
       "</style>\n",
       "<table border=\"1\" class=\"dataframe\">\n",
       "  <thead>\n",
       "    <tr style=\"text-align: right;\">\n",
       "      <th></th>\n",
       "      <th>Answer Relevance</th>\n",
       "      <th>Context Relevance</th>\n",
       "      <th>Groundedness</th>\n",
       "      <th>latency</th>\n",
       "      <th>total_cost</th>\n",
       "    </tr>\n",
       "    <tr>\n",
       "      <th>app_id</th>\n",
       "      <th></th>\n",
       "      <th></th>\n",
       "      <th></th>\n",
       "      <th></th>\n",
       "      <th></th>\n",
       "    </tr>\n",
       "  </thead>\n",
       "  <tbody>\n",
       "    <tr>\n",
       "      <th>RAG v1</th>\n",
       "      <td>1.0</td>\n",
       "      <td>0.8</td>\n",
       "      <td>0.48125</td>\n",
       "      <td>2.307692</td>\n",
       "      <td>0.0</td>\n",
       "    </tr>\n",
       "  </tbody>\n",
       "</table>\n",
       "</div>"
      ],
      "text/plain": [
       "        Answer Relevance  Context Relevance  Groundedness   latency  \\\n",
       "app_id                                                                \n",
       "RAG v1               1.0                0.8       0.48125  2.307692   \n",
       "\n",
       "        total_cost  \n",
       "app_id              \n",
       "RAG v1         0.0  "
      ]
     },
     "execution_count": 31,
     "metadata": {},
     "output_type": "execute_result"
    }
   ],
   "source": [
    "tru.get_leaderboard(app_ids=[\"RAG v1\"])"
   ]
  },
  {
   "cell_type": "code",
   "execution_count": 32,
   "id": "bc0536ca-3b47-4ae7-8e82-8a6cb8243872",
   "metadata": {
    "scrolled": true
   },
   "outputs": [
    {
     "name": "stdout",
     "output_type": "stream",
     "text": [
      "Starting dashboard ...\n",
      "Config file already exists. Skipping writing process.\n",
      "Credentials file already exists. Skipping writing process.\n",
      "Dashboard already running at path:   Network URL: http://192.168.1.10:8502\n",
      "\n"
     ]
    },
    {
     "data": {
      "text/plain": [
       "<Popen: returncode: None args: ['streamlit', 'run', '--server.headless=True'...>"
      ]
     },
     "execution_count": 32,
     "metadata": {},
     "output_type": "execute_result"
    }
   ],
   "source": [
    "tru.run_dashboard()"
   ]
  },
  {
   "cell_type": "code",
   "execution_count": null,
   "id": "535676b3-1a47-46c0-af2e-ac998c8ce598",
   "metadata": {},
   "outputs": [],
   "source": []
  }
 ],
 "metadata": {
  "kernelspec": {
   "display_name": "Python 3 (ipykernel)",
   "language": "python",
   "name": "python3"
  },
  "language_info": {
   "codemirror_mode": {
    "name": "ipython",
    "version": 3
   },
   "file_extension": ".py",
   "mimetype": "text/x-python",
   "name": "python",
   "nbconvert_exporter": "python",
   "pygments_lexer": "ipython3",
   "version": "3.10.12"
  }
 },
 "nbformat": 4,
 "nbformat_minor": 5
}
